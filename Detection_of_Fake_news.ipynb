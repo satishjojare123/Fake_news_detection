{
 "cells": [
  {
   "cell_type": "code",
   "execution_count": 1,
   "id": "61973fa0",
   "metadata": {},
   "outputs": [],
   "source": [
    "import numpy as np\n",
    "import pandas as pd\n",
    "import matplotlib.pyplot as plt\n",
    "%matplotlib inline"
   ]
  },
  {
   "cell_type": "code",
   "execution_count": 2,
   "id": "2e88e0ea",
   "metadata": {},
   "outputs": [],
   "source": [
    "df = pd.read_csv('news.csv')"
   ]
  },
  {
   "cell_type": "code",
   "execution_count": 3,
   "id": "884157e0",
   "metadata": {},
   "outputs": [
    {
     "data": {
      "text/html": [
       "<div>\n",
       "<style scoped>\n",
       "    .dataframe tbody tr th:only-of-type {\n",
       "        vertical-align: middle;\n",
       "    }\n",
       "\n",
       "    .dataframe tbody tr th {\n",
       "        vertical-align: top;\n",
       "    }\n",
       "\n",
       "    .dataframe thead th {\n",
       "        text-align: right;\n",
       "    }\n",
       "</style>\n",
       "<table border=\"1\" class=\"dataframe\">\n",
       "  <thead>\n",
       "    <tr style=\"text-align: right;\">\n",
       "      <th></th>\n",
       "      <th>Unnamed: 0</th>\n",
       "      <th>title</th>\n",
       "      <th>text</th>\n",
       "      <th>label</th>\n",
       "    </tr>\n",
       "  </thead>\n",
       "  <tbody>\n",
       "    <tr>\n",
       "      <th>0</th>\n",
       "      <td>8476</td>\n",
       "      <td>You Can Smell Hillary’s Fear</td>\n",
       "      <td>Daniel Greenfield, a Shillman Journalism Fello...</td>\n",
       "      <td>FAKE</td>\n",
       "    </tr>\n",
       "    <tr>\n",
       "      <th>1</th>\n",
       "      <td>10294</td>\n",
       "      <td>Watch The Exact Moment Paul Ryan Committed Pol...</td>\n",
       "      <td>Google Pinterest Digg Linkedin Reddit Stumbleu...</td>\n",
       "      <td>FAKE</td>\n",
       "    </tr>\n",
       "    <tr>\n",
       "      <th>2</th>\n",
       "      <td>3608</td>\n",
       "      <td>Kerry to go to Paris in gesture of sympathy</td>\n",
       "      <td>U.S. Secretary of State John F. Kerry said Mon...</td>\n",
       "      <td>REAL</td>\n",
       "    </tr>\n",
       "    <tr>\n",
       "      <th>3</th>\n",
       "      <td>10142</td>\n",
       "      <td>Bernie supporters on Twitter erupt in anger ag...</td>\n",
       "      <td>— Kaydee King (@KaydeeKing) November 9, 2016 T...</td>\n",
       "      <td>FAKE</td>\n",
       "    </tr>\n",
       "    <tr>\n",
       "      <th>4</th>\n",
       "      <td>875</td>\n",
       "      <td>The Battle of New York: Why This Primary Matters</td>\n",
       "      <td>It's primary day in New York and front-runners...</td>\n",
       "      <td>REAL</td>\n",
       "    </tr>\n",
       "  </tbody>\n",
       "</table>\n",
       "</div>"
      ],
      "text/plain": [
       "   Unnamed: 0                                              title  \\\n",
       "0        8476                       You Can Smell Hillary’s Fear   \n",
       "1       10294  Watch The Exact Moment Paul Ryan Committed Pol...   \n",
       "2        3608        Kerry to go to Paris in gesture of sympathy   \n",
       "3       10142  Bernie supporters on Twitter erupt in anger ag...   \n",
       "4         875   The Battle of New York: Why This Primary Matters   \n",
       "\n",
       "                                                text label  \n",
       "0  Daniel Greenfield, a Shillman Journalism Fello...  FAKE  \n",
       "1  Google Pinterest Digg Linkedin Reddit Stumbleu...  FAKE  \n",
       "2  U.S. Secretary of State John F. Kerry said Mon...  REAL  \n",
       "3  — Kaydee King (@KaydeeKing) November 9, 2016 T...  FAKE  \n",
       "4  It's primary day in New York and front-runners...  REAL  "
      ]
     },
     "execution_count": 3,
     "metadata": {},
     "output_type": "execute_result"
    }
   ],
   "source": [
    "df.head()"
   ]
  },
  {
   "cell_type": "code",
   "execution_count": 4,
   "id": "fdf87892",
   "metadata": {},
   "outputs": [
    {
     "data": {
      "text/html": [
       "<div>\n",
       "<style scoped>\n",
       "    .dataframe tbody tr th:only-of-type {\n",
       "        vertical-align: middle;\n",
       "    }\n",
       "\n",
       "    .dataframe tbody tr th {\n",
       "        vertical-align: top;\n",
       "    }\n",
       "\n",
       "    .dataframe thead th {\n",
       "        text-align: right;\n",
       "    }\n",
       "</style>\n",
       "<table border=\"1\" class=\"dataframe\">\n",
       "  <thead>\n",
       "    <tr style=\"text-align: right;\">\n",
       "      <th></th>\n",
       "      <th>Unnamed: 0</th>\n",
       "    </tr>\n",
       "  </thead>\n",
       "  <tbody>\n",
       "    <tr>\n",
       "      <th>count</th>\n",
       "      <td>6335.000000</td>\n",
       "    </tr>\n",
       "    <tr>\n",
       "      <th>mean</th>\n",
       "      <td>5280.415627</td>\n",
       "    </tr>\n",
       "    <tr>\n",
       "      <th>std</th>\n",
       "      <td>3038.503953</td>\n",
       "    </tr>\n",
       "    <tr>\n",
       "      <th>min</th>\n",
       "      <td>2.000000</td>\n",
       "    </tr>\n",
       "    <tr>\n",
       "      <th>25%</th>\n",
       "      <td>2674.500000</td>\n",
       "    </tr>\n",
       "    <tr>\n",
       "      <th>50%</th>\n",
       "      <td>5271.000000</td>\n",
       "    </tr>\n",
       "    <tr>\n",
       "      <th>75%</th>\n",
       "      <td>7901.000000</td>\n",
       "    </tr>\n",
       "    <tr>\n",
       "      <th>max</th>\n",
       "      <td>10557.000000</td>\n",
       "    </tr>\n",
       "  </tbody>\n",
       "</table>\n",
       "</div>"
      ],
      "text/plain": [
       "         Unnamed: 0\n",
       "count   6335.000000\n",
       "mean    5280.415627\n",
       "std     3038.503953\n",
       "min        2.000000\n",
       "25%     2674.500000\n",
       "50%     5271.000000\n",
       "75%     7901.000000\n",
       "max    10557.000000"
      ]
     },
     "execution_count": 4,
     "metadata": {},
     "output_type": "execute_result"
    }
   ],
   "source": [
    "df.describe()"
   ]
  },
  {
   "cell_type": "code",
   "execution_count": 5,
   "id": "6a11c103",
   "metadata": {},
   "outputs": [
    {
     "data": {
      "text/html": [
       "<div>\n",
       "<style scoped>\n",
       "    .dataframe tbody tr th:only-of-type {\n",
       "        vertical-align: middle;\n",
       "    }\n",
       "\n",
       "    .dataframe tbody tr th {\n",
       "        vertical-align: top;\n",
       "    }\n",
       "\n",
       "    .dataframe thead tr th {\n",
       "        text-align: left;\n",
       "    }\n",
       "\n",
       "    .dataframe thead tr:last-of-type th {\n",
       "        text-align: right;\n",
       "    }\n",
       "</style>\n",
       "<table border=\"1\" class=\"dataframe\">\n",
       "  <thead>\n",
       "    <tr>\n",
       "      <th></th>\n",
       "      <th colspan=\"8\" halign=\"left\">Unnamed: 0</th>\n",
       "    </tr>\n",
       "    <tr>\n",
       "      <th></th>\n",
       "      <th>count</th>\n",
       "      <th>mean</th>\n",
       "      <th>std</th>\n",
       "      <th>min</th>\n",
       "      <th>25%</th>\n",
       "      <th>50%</th>\n",
       "      <th>75%</th>\n",
       "      <th>max</th>\n",
       "    </tr>\n",
       "    <tr>\n",
       "      <th>label</th>\n",
       "      <th></th>\n",
       "      <th></th>\n",
       "      <th></th>\n",
       "      <th></th>\n",
       "      <th></th>\n",
       "      <th></th>\n",
       "      <th></th>\n",
       "      <th></th>\n",
       "    </tr>\n",
       "  </thead>\n",
       "  <tbody>\n",
       "    <tr>\n",
       "      <th>FAKE</th>\n",
       "      <td>3164.0</td>\n",
       "      <td>7912.297092</td>\n",
       "      <td>1514.701524</td>\n",
       "      <td>5280.0</td>\n",
       "      <td>6627.75</td>\n",
       "      <td>7904.0</td>\n",
       "      <td>9231.25</td>\n",
       "      <td>10557.0</td>\n",
       "    </tr>\n",
       "    <tr>\n",
       "      <th>REAL</th>\n",
       "      <td>3171.0</td>\n",
       "      <td>2654.344056</td>\n",
       "      <td>1531.720152</td>\n",
       "      <td>2.0</td>\n",
       "      <td>1317.50</td>\n",
       "      <td>2676.0</td>\n",
       "      <td>3992.50</td>\n",
       "      <td>5276.0</td>\n",
       "    </tr>\n",
       "  </tbody>\n",
       "</table>\n",
       "</div>"
      ],
      "text/plain": [
       "      Unnamed: 0                                                              \\\n",
       "           count         mean          std     min      25%     50%      75%   \n",
       "label                                                                          \n",
       "FAKE      3164.0  7912.297092  1514.701524  5280.0  6627.75  7904.0  9231.25   \n",
       "REAL      3171.0  2654.344056  1531.720152     2.0  1317.50  2676.0  3992.50   \n",
       "\n",
       "                \n",
       "           max  \n",
       "label           \n",
       "FAKE   10557.0  \n",
       "REAL    5276.0  "
      ]
     },
     "execution_count": 5,
     "metadata": {},
     "output_type": "execute_result"
    }
   ],
   "source": [
    "df.groupby('label').describe()"
   ]
  },
  {
   "cell_type": "code",
   "execution_count": 6,
   "id": "9e32c459",
   "metadata": {},
   "outputs": [],
   "source": [
    "df['length'] = df['text'].apply(len)"
   ]
  },
  {
   "cell_type": "code",
   "execution_count": 7,
   "id": "ceb81ed9",
   "metadata": {},
   "outputs": [
    {
     "data": {
      "text/html": [
       "<div>\n",
       "<style scoped>\n",
       "    .dataframe tbody tr th:only-of-type {\n",
       "        vertical-align: middle;\n",
       "    }\n",
       "\n",
       "    .dataframe tbody tr th {\n",
       "        vertical-align: top;\n",
       "    }\n",
       "\n",
       "    .dataframe thead th {\n",
       "        text-align: right;\n",
       "    }\n",
       "</style>\n",
       "<table border=\"1\" class=\"dataframe\">\n",
       "  <thead>\n",
       "    <tr style=\"text-align: right;\">\n",
       "      <th></th>\n",
       "      <th>Unnamed: 0</th>\n",
       "      <th>title</th>\n",
       "      <th>text</th>\n",
       "      <th>label</th>\n",
       "      <th>length</th>\n",
       "    </tr>\n",
       "  </thead>\n",
       "  <tbody>\n",
       "    <tr>\n",
       "      <th>0</th>\n",
       "      <td>8476</td>\n",
       "      <td>You Can Smell Hillary’s Fear</td>\n",
       "      <td>Daniel Greenfield, a Shillman Journalism Fello...</td>\n",
       "      <td>FAKE</td>\n",
       "      <td>7518</td>\n",
       "    </tr>\n",
       "    <tr>\n",
       "      <th>1</th>\n",
       "      <td>10294</td>\n",
       "      <td>Watch The Exact Moment Paul Ryan Committed Pol...</td>\n",
       "      <td>Google Pinterest Digg Linkedin Reddit Stumbleu...</td>\n",
       "      <td>FAKE</td>\n",
       "      <td>2646</td>\n",
       "    </tr>\n",
       "    <tr>\n",
       "      <th>2</th>\n",
       "      <td>3608</td>\n",
       "      <td>Kerry to go to Paris in gesture of sympathy</td>\n",
       "      <td>U.S. Secretary of State John F. Kerry said Mon...</td>\n",
       "      <td>REAL</td>\n",
       "      <td>2543</td>\n",
       "    </tr>\n",
       "    <tr>\n",
       "      <th>3</th>\n",
       "      <td>10142</td>\n",
       "      <td>Bernie supporters on Twitter erupt in anger ag...</td>\n",
       "      <td>— Kaydee King (@KaydeeKing) November 9, 2016 T...</td>\n",
       "      <td>FAKE</td>\n",
       "      <td>2660</td>\n",
       "    </tr>\n",
       "    <tr>\n",
       "      <th>4</th>\n",
       "      <td>875</td>\n",
       "      <td>The Battle of New York: Why This Primary Matters</td>\n",
       "      <td>It's primary day in New York and front-runners...</td>\n",
       "      <td>REAL</td>\n",
       "      <td>1840</td>\n",
       "    </tr>\n",
       "  </tbody>\n",
       "</table>\n",
       "</div>"
      ],
      "text/plain": [
       "   Unnamed: 0                                              title  \\\n",
       "0        8476                       You Can Smell Hillary’s Fear   \n",
       "1       10294  Watch The Exact Moment Paul Ryan Committed Pol...   \n",
       "2        3608        Kerry to go to Paris in gesture of sympathy   \n",
       "3       10142  Bernie supporters on Twitter erupt in anger ag...   \n",
       "4         875   The Battle of New York: Why This Primary Matters   \n",
       "\n",
       "                                                text label  length  \n",
       "0  Daniel Greenfield, a Shillman Journalism Fello...  FAKE    7518  \n",
       "1  Google Pinterest Digg Linkedin Reddit Stumbleu...  FAKE    2646  \n",
       "2  U.S. Secretary of State John F. Kerry said Mon...  REAL    2543  \n",
       "3  — Kaydee King (@KaydeeKing) November 9, 2016 T...  FAKE    2660  \n",
       "4  It's primary day in New York and front-runners...  REAL    1840  "
      ]
     },
     "execution_count": 7,
     "metadata": {},
     "output_type": "execute_result"
    }
   ],
   "source": [
    "df.head()"
   ]
  },
  {
   "cell_type": "code",
   "execution_count": 8,
   "id": "92ac886a",
   "metadata": {},
   "outputs": [
    {
     "data": {
      "text/plain": [
       "<AxesSubplot:ylabel='Frequency'>"
      ]
     },
     "execution_count": 8,
     "metadata": {},
     "output_type": "execute_result"
    },
    {
     "data": {
      "image/png": "[encoded data removed]",
      "text/plain": [
       "<Figure size 432x288 with 1 Axes>"
      ]
     },
     "metadata": {
      "needs_background": "light"
     },
     "output_type": "display_data"
    }
   ],
   "source": [
    "df['length'].plot(kind = 'hist',bins = 50)"
   ]
  },
  {
   "cell_type": "code",
   "execution_count": 9,
   "id": "e01d1b1e",
   "metadata": {},
   "outputs": [
    {
     "data": {
      "text/plain": [
       "count      6335.000000\n",
       "mean       4707.250355\n",
       "std        5090.956446\n",
       "min           1.000000\n",
       "25%        1741.500000\n",
       "50%        3642.000000\n",
       "75%        6192.000000\n",
       "max      115372.000000\n",
       "Name: length, dtype: float64"
      ]
     },
     "execution_count": 9,
     "metadata": {},
     "output_type": "execute_result"
    }
   ],
   "source": [
    "df.length.describe()"
   ]
  },
  {
   "cell_type": "code",
   "execution_count": 10,
   "id": "7feb9974",
   "metadata": {},
   "outputs": [
    {
     "data": {
      "text/plain": [
       "'Why Are So Many People Choosing To Leave The United States Permanently?   August 11th, 2013 \\nHave things gotten so bad that it is time to leave the United States for good? That is a question that a lot of Americans are dealing with these days, and an increasing number of them are choosing to leave the country of their birth permanently. Some are doing it for tax reasons, some are doing it because they believe the future is brighter elsewhere, and others are doing it because they are very distressed about the direction that America is heading and they don’t see any hope for a turnaround any time soon. Personally, I have several friends and contacts that regard themselves as “preppers” that have decided that the United States is too far gone to recover. They have moved their families out of the country and they never plan to return. As this nation continues to head down the very troubled road that it is currently on, this trend is probably only going to accelerate even more. \\nIn fact, some Americans are even going so far as to renounce their citizenship when they leave. This represents only a small percentage of those that are leaving the country, but as Bloomberg recently reported , the number of Americans that renounced their citizenship in the second quarter of 2013 was six times larger than the number that renounced their citizenship in the second quarter of last year… \\nAmericans renouncing U.S. citizenship surged sixfold in the second quarter from a year earlier as the government prepares to introduce tougher asset-disclosure rules. \\nExpatriates giving up their nationality at U.S. embassies climbed to 1,131 in the three months through June from 189 in the year-earlier period, according to Federal Register figures published today. \\nRenouncing the country of your birth is not an easy thing to do. From the moment that we come into this world, those of us born in this country are trained to think of ourselves as “Americans”. The following is an excerpt from a recent article by Simon Black of the Sovereign Man blog … \\nIt doesn’t matter where you’re from– the United States, Sweden, New Zealand, or Venezuela… many people all over the world are inculcated from birth with a sense that their country is ‘better’ than all the others. \\nWe grow up with the songs, the flag waving, and the parades until the concept of motherland becomes deeply rooted in our emotional cores. \\nNot to mention, when so many of our friends and neighbors unquestionably fall in line, it’s a powerful social reinforcement that only strengthens the bond. \\nWe come to view our nationalities rather ironically as a big piece of our core individuality. I am an American. I am a Canadian. I am an Austrian. Instead of– I am a human being. \\nIt has taken decades… centuries even… to reach this point. So the fact that more and more people are making the gut-wrenching decision to ditch their US passports is truly a powerful trend. \\nTraditionally, the   been some of the most patriotic people on the face of the planet. \\nSo why are we now seeing such an increase in the number of people choosing to leave the United States permanently? \\nWell, the truth is that there are a whole host of reasons why people are losing faith in this country and are deciding to leave… \\n-The U.S. economy has been steadily declining for many years and that decline now seems to be accelerating. \\n-We are being taxed into oblivion . \\n-The quality of the jobs in our economy is rapidly declining . \\n-Our culture is rapidly going down the toilet . \\n-Our health care system has become a complete mess and a giant money making scam . Obamacare is only going to make things even worse . \\n-Our politicians are tremendously corrupt, but the same clowns just keep getting sent back to D.C. over and over again. \\n-Our nation seems to be on a relentless march toward collectivism . \\n-America is rapidly turning into a “Big Brother” police state that is run by control freaks that seem obsessed with watching, tracking, monitoring and controlling virtually everything that we do. \\nOf course the list above could go on indefinitely, but hopefully I have made my point. A whole lot of people out there are absolutely horrified as they watch what is happening to America, and leaving the country for good is increasingly being viewed as a potential option by many. \\nBut as tempting as “ going Galt ” may seem, please come up with a good plan first. \\nAs one family recently discovered , hopping into a small boat and sailing off into the Pacific Ocean in search of a better life is probably not going to work out too well… \\nA northern Arizona family that was lost at sea for weeks in an ill-fated attempt to leave the U.S. over what they consider government interference in religion will fly back home Sunday. \\nHannah Gastonguay, 26, said Saturday that she and her husband “decided to take a leap of faith and see where God led us” when they took their two small children and her father-in-law and set sail from San Diego for the tiny island nation of Kiribati in May. \\nBut just weeks into their journey, the Gastonguays hit a series of storms that damaged their small boat, leaving them adrift for weeks, unable to make progress. They were eventually picked up by a Venezuelan fishing vessel, transferred to a Japanese cargo ship and taken to Chile where they are resting in a hotel in the port city of San Antonio. \\nYes, life in America is definitely going to be extremely challenging in the years ahead, but the grass is not always greener on the other side of the planet either. \\nThere are a whole host of things to consider before you make a permanent move to another country. The following is an extended excerpt from one of my previous articles … \\n\\nThe following are 10 questions to ask yourself before you decide to move to another country… \\nDo You Speak The Language? If Not, How Will You Function? \\nIf you do not speak the language of the country that you are moving to, that can create a huge problem. Just going to the store and buying some food will become a challenge. Every interaction that you have with anyone in that society will be strained, and your ability to integrate into the culture around you will be greatly limited. \\nHow Will You Make A Living? \\nUnless you are independently wealthy, you will need to make money. In a foreign nation, it may be very difficult for you to find a job – especially one that pays as much as you are accustomed to making in the United States. \\nWill You Be Okay Without Your Family And Friends? \\nBeing thousands of miles away from all of your family and friends can be extremely difficult. Will you be okay without them? And it can be difficult to survive in a foreign culture without any kind of a support system. Sometimes the people that most successfully move out of the country are those that do it as part of a larger group. \\nHave You Factored In Weather Patterns And Geological Instability? \\nAs the globe becomes increasingly unstable, weather patterns and natural disasters are going to become a bigger factor in deciding where to live. For example, right now India is suffering through the worst drought that it has experienced in nearly 50 years . It would be very difficult to thrive in the middle of such an environment. \\nMany of those that are encouraging people to “escape from America” are pointing to Chile as an ideal place to relocate to. But there are thousands of significant earthquakes in Chile each year, and the entire nation lies directly along the “Ring of Fire” which is becoming increasingly unstable. That is something to keep in mind. \\nWhat Will You Do For Medical Care? \\nIf you or someone in your family had a serious medical problem in the United States, you would know what to do. Yes, our health care system is incredibly messed up , but at least you would know that you could get the care that you needed if an emergency arose. Would the same be true in a foreign nation? \\nAre You Moving Into A High Crime Area? \\nYes, crime is definitely on the rise in the United States. But in other areas where many preppers are moving to, crime is even worse. Mexico and certain areas of Central America are two examples of this. And in many foreign nations, the police are far more corrupt than they generally are in the United States. \\nIn addition, many other nations have far stricter gun laws than the United States does, so your ability to defend your family may be greatly restricted. \\nSo will your family truly be safe in the nation that you plan to take them to? \\nAre You Prepared For “Culture Shock”? \\nMoving to another country can be like moving to a different planet. After all, they don’t call it “culture shock” for nothing. \\nIf you do move to another country, you may quickly find that thousands of little things that you once took for granted in the U.S. are now very different. \\nAnd there is a very good chance that many of the “amenities” that you are accustomed to in the U.S. will not be available in a foreign nation and that your standard of living will go down. \\nSo if you are thinking of moving somewhere else, you may want to visit first just to get an idea of what life would be like if you made the move. \\nWhat Freedoms and Liberties Will You Lose By Moving? \\nYes, our liberties and our freedoms are being rapidly eroded in the United States. But in many other nations around the world things are much worse. You may find that there is no such thing as “freedom of speech” or “freedom of religion” in the country that you have decided to move to. \\nIs There A Possibility That The Country You Plan To Escape To Could Be Involved In A War At Some Point? \\nWe are moving into a time of great geopolitical instability. If you move right into the middle of a future war zone, you might really regret it. If you do plan to move, try to find a country that is likely to avoid war for the foreseeable future. \\nWhen The Global Economy Collapses, Will You And Your Family Be Okay For Food? \\nWhat good will it be to leave the United States if you and your family run out of food? \\nToday, we are on the verge of a major global food crisis. Global food reserves are at their lowest level in nearly 40 years , and shifting global weather patterns are certainly not helping things. \\nAnd the global elite are rapidly getting more control over the global food supply. Today, between 75 and 90 percent of all international trade in grain is controlled by just four gigantic multinational food corporations. \\n\\nLeaving the United States permanently and setting up a new life in another country can be done, but it isn’t for the faint of heart. It takes planning, preparation and lots of hard work. \\nHowever, there are lots of people that have done it successfully, including quite a number of people that I know personally. \\nIn the end, you have got to make the decision that is right for you and your family. Don’t let anyone else tell you what to do. \\nFor many, staying in the United States and preparing for the tough years that are coming is the best choice. For others, getting out   and heading for greener pastures is the right choice. \\nWhat about you? \\nPlease feel free to share your perspective by posting a comment below… \\nAre These The Last Days Of The U.S. Marine Corps? » Rodster \\nI’m sticking it out. As screwed up as America is i’ll take my chances here. As the article mentioned, when the global economy collapses it may be harder to survive in another country. ian \\nno. it will probably be easier, as most other nations dont have gun toting nutjobs and a less self centered view of life. Other countries may adopt a “we’re all in this together’ mentality, while america will, at first, descends into ‘me first’ chaos. MeMadMax \\nTake ur statement, and make it the opposite, and less hateful, and it would be right. Vindicare \\nGuess what, no one is entitled to positive feelings. Hate is a feeling, nothing more. People may hate you, but you live in west, where you must feel good about others, whatever stupid and evil they are. Positive=!good, negative=!bad. And to tell the truth people often earn hate, they own it they. Yes hate may be rightfully earned. Hate is just waste of time, contempt is better, indifference is best. sherpeace \\nExactly. The people you hate don’t care! The hate only hurts the hater! So, go for it; Keep on hating. Then you will die young, either from a heart attack or because the object of your hate kills you. Hooray! Now we will be rid of you! (Sorry, I know that is not very peaceful of me, but I couldn’t help it.) Vindicare \\nStop projecting. I hate no one but mosquitoes. Usual Yada yada yada! Whatever I may sound to you when I go from keyboard it stop bothering me. Some people write things because they think, not because feel something. This western paranoia is pathetic. FEELINGS, FEWWINGS, FEEL, HURR DURR! Nop prefer logic. condaggitt \\nIan most other countries dont have mass quantities of violent black thugs either. xander cross \\nMost countries have violent white men with guns. Just look at the white supremacist groups and people like Alex jones. Most white people are racist and evil by nature SVD \\nTakes one to know one eh!? xander cross \\nYou would know. A racist like yourself is common in the land that you stole from us. Ted \\nJust admit that you hate White people…which by definition makes you a racist! Oh the horror There’s nothing worse than racism…oh no sherpeace \\nPeople are offended by the white comment, but not the black one. That means YOU are racist. I am white, but I am offended by BOTH comments. You can not make blanket statements about ANY race. It is just unfair and wrong! Graham \\nYour last sentence would lead a reader to believe you are of “American Indian” decent. Is that correct? \\nIf so, I’m interested in what tribe you are affiliated with, assuming that is something you are happy to share. Joe Jakkerton \\nIm American Indian and can tell Xander is African. SVD \\nOh you hurt my feelings. I think I’m about to shed a tear. Get over yourself loser! xander cross \\nThe loser is the white man that enjoys selling his land to china for a currency that rapidly loosing its value. White men are the problem, that is why they’re marring (or stealing) Asian women in mass droves. sherpeace \\nOh, brother, come on! The things that ignorant people say just amazes me! Joe Jakkerton \\nThats makes us the WINNERS ha ha ha! DuchessLazy \\nWhy do so many Chinese murder their baby girls ? It’s a horror. Jill Ellen Schulze \\nyou are really really stupid. You are the reason I want to leave this country. People like you are still kept alive Walt Lonsdale \\nWe don’t even know what you are BrianLandon \\nright. stole from you, eh? so show us the deed? Joe Jakkerton \\nThen move back to Africa and get on with it. Walt Lonsdale \\nIS that why there is considerably more black on black crime??Idiot! sherpeace \\nIt is because there is considerably more poverty in black neighborhoods. And, I am sorry to say, that has a lot to do with the quality of schools. If you were to check, most successful blacks went to white schools, the only place to get an equal education despite “Brown vs. the board of education”. Son Goku \\nMost White AmeriKKKans are psychotic sociopaths. Blacks are on their sick demonic minds 24/7. This article had nothing to do with blacks. If Anglo Americans were so peaceful. Why do they have missile defense systems around China, Russia, and Iran. They are the real thugs. sherpeace \\nGot a point there. Just remember that not all of us believe in what our govt. is doing. carnac123 \\nSG Because we are smart and we defend ourselves. You…however are just a racist calling others racist. If America was all Anglo or at least all white,.. it would be a paradise. Joe Jakkerton \\nWho said we were peaceful? We are violent and always have been. Oline Wright \\nNot so, that statement is as racist as saying most blacks are violent thugs. There are good and bad in all peoples and it is high time we stop stereotyping people because of the color of their skin or even the place they grew up. DuchessLazy \\nTry living in a an area where the majority is black and see what you get. Mondobeyondo \\nViolent white men take over countries with guns. Violent black men take over inner cities with guns. \\nWe are ALL under attack!!! Linda Williams \\nWho told you that? RalphZiggy \\nwhat nonsense you spew, when did Alex Jones ever do or say anything racist? he has even demonstrated against hate groups like the KKK. In the USA, white people huge the majority of weapons but don’t commit most of the crime. You are a white-hating racist, the supremacist full of hate is in your bathroom mirror. xander cross \\nDuring the trayvon Martin trail. He and his supporters are indeed racist just like Ron and pans Paul are. His supports are really the same people that go to stormfront site as well. Alex jones never demonstrated against the kkk, but he demonstrated against black people several times. But then again, he gets paid by white men to be an idiot on television so, you defending him proves my point. RalphZiggy \\nIt is a fact Alex Jones demostrated against the KKK in Waco Tx in 1999 with a bullhorn, look it up. There are videos of it. You make up an world between your ears and believe in it, without letting facts get in the way of your prejudices Joe Jakkerton \\noh man you must be Lacquer head. I bet you love your caurborator cleaner. BrianLandon \\nuh right. sort of like the blacks killing blacks in Africa? Or how about Muslims killing Muslims in Pakistan, Syria, Lebanon, etc. And how about the fact that the biggest rate of murders in the US is committed by young black men killing other young black men. \\nthe only racist here is yOU! xander cross \\nNo, white men are the racist and white men commit the most crimes and they’re not convicted for the murders that they commit. White men commit the most crimes and you use fake percentage numbers to spew your lies about black people. Let’s talk real numbers, not fake percentages that you get from world net daily. DuchessLazy \\nLies. Whites actually care about THEIR neighborhoods and gladly get rid of criminals. But…if you’re rich, no matter the skin color, you’re likely to get away with about anything. Joe Jakkerton \\nAll colored people are evil and racist. xander cross \\nWhite men are evil and racist and to add to your stupidity, you white men turned a third world country to an economic superpower (China). Elliot \\n“Most white people are racist and evil by nature”? Are you serious? That is such an ignorant statement with zero credibility. That is a stupid as if I were to say, “There aren’t any nations in this world governed by black people from top to bottom that dominate on the world stage, therefore all black people are stupid and lazy”. Look at the Chinese and India. They aren’t white, are two of the most populated countries in the world, are HUGE players in our world economy, and yet both pollute the Earth daily like never before seen, and China executes more people annually (with a gun to the back of the head) than any other country worldwide. Yet you tell me they are full of “violent white men with guns”? You are what is wrong with our society. There are too many dumba$$e$ like you able to post their uneducated, idiotic opinions online and somehow garner steam from it. Some other dumba$$ will read your comment and give it a “thumbs up” without realizing how stupid you both are. The problem with our societies is that the dumb people outnumber the smart ones 100 to 1, and whether you are black, white or rainbow-colored, you are an IDIOT. d \\nWhat? Son Goku \\nDude!!! Why are you racist bigots obsess with black people?!?! This is one of the reason why people dislike white Americans around the world. Plus you bomb other people’s countries for natural resources. You are the real thugs. Most of You people are obsess with race. Oline Wright \\nagain it is not about color or race it is truly more about who or what is in power. ANd frankly as an American I have to say I have not been that satisfied by the government that is supposed to represent me for the last 20 years or so. xander cross \\nStop lying because the white people on this site is openly racist. White men are the problem and every white person on this site supported stop and frisk by mayor Bloomberg. mikeymike61 \\nneegrows be da prolem, git rid a neegrows and you gots rid a 85% a da krime Tobias Smith \\nyou are clearly a racist foolish little boy sherpeace \\nOh, EVERYONE, huh? You got a lot of nerve speaking a lie like that! Joe Jakkerton \\nHey we only supported stop and frisk of coloreds and gays like you. sherpeace \\nLonger than that, for me. Carter was the last true humanitarian in power in this country. Linda Williams \\nCarter was an idiot. The interest rate soared under Carter. sherpeace \\nWow, you must be one of the most intelligent people on earth to be able to call a man like carter an idiot! Or you are a tea party Republican who hates all Democrats. lunchbox \\nfirst of all, tea is delicious, but let me just say that is not a reference to politics, i just like tea. Especially irish breakfast tea. Secondly, you should all take the time to go back to the top of this page and re-read all of your comments. I would be interested to see if anyone can come up with a sensible answer as to how the discussions went from being about the government, and what is wrong with it. Tell me how the conversation shifted from discussing how to solve a very real problem to being concerned with racism, which is and always will be an issue as long as there is mankind. We can solve that problem later, that problem is not what will be destroying ours, or anyone elses country. Please stay focused on the matter at hand, or it will pass you by while you stand idly in oblivion. Mankind is but a petty child, given shoulders with which to carry the weight of the world. So please let us stop being petty, and use those shoulders to lift each other up to a point where we no longer need the guidance of govt.. We are after all the people that they are referencing when they say that govt. is for the people, by the people. Joe Jakkerton \\nCarter was and still is an idiot. You sound like one of them Teaophobes. sherpeace \\nYou do have a point, but that is a very small minority of white American males. Most of us are peace loving people who lived in mixed neighborhoods and get along with everyone. My husband has been a teacher for 28 years at the same school. Everyone knows where he lives and no one bothers us. Oooops, my hubby isn’t white. Only I am. I guess that explains it, huh? Fed Up With Your Ignorance \\nYou’re such an ignorant fool. GOVERNMENTS bomb other countries, and news flash, AMERICA’S PRESIDENT IS BLACK. Have a nice day… Joe Jakkerton \\nOr any other kinds of thugs. Alex \\nForget the black thugs. The problem is the scum bag wall street banksters who have destroyed our society while accomulating wealth. Jill Ellen Schulze \\nyou serious? You want to leave because of “black thugs?”. The biggest problem here is the government and in case you haven’t noticed by watching fox news ( i am sure that’s what you watch), most are white besides the pres (luckily!) and they are not the “black thugs” you speak about. Ray J Cimbalnik \\nI agree. Americans will only care about themselves. I can not wait to expatriate OUT of America. America will never recover UNTIL it falls COMPLETELY and then rebuilds. Oline Wright \\nI have to disagree. Again it is an oversimplification of the attitudes of the country and a stereotype. Many in the US if they have it to spare will send money to help out countries in crisis due to catastrophic events. People will do so even within the country. It is more a case of the government overreaching its stated powers and becoming diametrically opposed to what the founding fathers envisioned. I have to admit that when a person is struggling to meet the day to day needs of their lives they will frequently become more centrally focused. But I think you will see similar attitudes in other countries as well. sherpeace \\nYou said it! Thank you! Boy, thank God when I went to El Salvador in the 80s, they understood that the govt. is NOT the people. I guess they knew because of their F*#@ed up govt. Joe Jakkerton \\nWhy not just leave the city? Joe Jakkerton \\nI would appreciate it if you just stayed in the USA where you belong. Alex \\nI decided to abandon ship. Humans have the right to survive, that has nothing to do with being an American. I am not the property of the USA, although they may think I am. America is not going to change, it is essentially dead with a few exceptions. Once you start disconnecting from this fake American society it will become easier to assimilate to another. In the US we have been spoiled and brainwash that we are number 1 because we have more material possessions then the rest of the world. If this was the case why are the majority of Americans unhappy. Although it is challenging to move to another country, I believe it can be done if one has the will. I left the states about almost 3 months ago and there is not a day that I regret it. Even though I have the advantage of speaking spanish, it still it is a challenge. Even though I may be broke atleast I am free and that you cannot put a price on. Lingram90 \\nWhere did u relocate to? T \\nYes, but which ones? Can you name them? NoSheDidn’t! \\nI agree…no matter where you are, all countries will get hit one way or the other…eventually…especially those developing countries that depend on the 1st world countries…compliments of: globalization! Vindicare \\nIt is other way around in case of USA. USA depend on import as it had outsourced the industry. It depends on dollar as reserve currency. And depend on military. sherpeace \\nSad, but true. Reality_Seeker \\nIt will be harder to survive in another country. Moreover, the global economy is going to collapse; and when it does, it will be open season on amerikans…….amerikans will be stripped of whatever they have, and in some cases, their lives will be taken, too. Think about your future before you try and run, because you can run but you might not be able to hide. dishatin \\nThere with ya nicho12 \\nI think it will be harder to survive in America if the global economy collapses. Think about it, America is full of different races all fighting each other to get ahead which creates too much hatred and anger among the races. An economic collapse will lead to a civil war in America and millions of people will die, especially the minorities, the you add in feminism which has caused many men to resent women, you have a multicultural chaos. Most people don’t think about the social problems that America is facing. At least in other countries, their cultures are much more homogeneous and there’s less individualism than in America. In America, it will be it’s every man for himself Mudpie \\nI have lived abroad once and loved the nation but I will say living there for good would be hard. When everything and everyone – including close family, some of whom are ill – you know is in the U.S.A. There are great places out there, but as Michael notes, money issues are significant as well. Unless seriously loaded, you gotta work. Many nations discriminate against foreigners in the job market. And do not underestimate local connections that you lack, etc. Very hard to accomplish. Of course, most Americans have family forefathers who came from elsewhere and survived. It takes a VERY spiritual outlook to endure the privations until one is comfortable. Also, America discriminates against expatriots and the U.S.A. tax system for foreign earned income is insane and impossible to understand for most people. \\nMichael hits the nail on the head when he says the grass is NOT always greener. \\nWe may do it again when our children get old enough to live on their own. But for the time being, I think that hunkering down and planning smartly here may be the way to go over time. Travel to those other amazing places. But feather the nest here, live in the state of your dreams and find a city that you are really into. I like New Mexico, for instance, and places therein. Alaska is like a foreign country for the so inclined. \\nHonestly, if the U.S. goes to hell then most of the world will go with it, at least S. America and Central America. And at least here your neighbors who are sympathetic to your cause and freedom will be locked and loaded. In many places only bad guys have guns. \\nOf course there will be violence here as the Al Sharpton haters pour into the streets. But you will have a chance. \\nAnd those liberty lovers in your area . . . .do not forget Americans DO tend to be very smart people. Even in other really great countries, there are even more socialists than here (though some seem to manage it better, for at least a while). Americans who believe in liberty are the best on the planet. \\nLet us hope we get a state that secedes and serves as a magnet for free men an women. MeMadMax \\nNOT. My wife is from Guatemala, her mom finally got a hot water heater, the place can’t go to hell because there is nothing to break. That is the extreme end of it, but it’s the same thing. The world is not dependent on us for anything, except for one thing: Doing their dirty work for them…. If you think the world thinks about the US all the time, think again. We are like the prissy little cheerleader in highschool who thinks the school would close if she ever stopped going to school…. Mudpie \\nDude, I pretty much agree. I like the cheerleader analogy. We are full of ourselves and now it is coming out of our rears… Dmmonypeny@att.net \\nIt is probably best to stay in this country until the riots start. Even then you may want to make your first move out of the cities to a romote easily protected rural farming area. As bad asthe US is, a lot of the world is already in even worse shape. \\nAs banks fail and markets crash, you might want to start hunting for another country. I am looking at the Caymen Islands or Balese. \\nI am steadily building a supply of gold and silver. I am also starting to take my money steadily out of the markets. I am also taking cash out of the bank. \\nThere is really no good reason to leave cash in your account. The highest probability of theft comes from the banks Rodster \\nExactly, just look at the conditions of countries like Greece, Spain, Italy, Turkey, Egypt, Portugal, Brazil. These are some of the places experiencing riots and unrest due to economic condition. \\nAs things global economy continues to get worse, those places will probably experience more unrest and violence. We haven’t seen it here because our monetary policy is what’s driving the world’s economy. \\nSo when the SHTF expect chaos around the world. If you are Jim Rodgers, George Soros or a very wealthy person who can buy protection and a place that can insulate itself from turmoil then it really doesn’t matter where you live. \\nThe world has never seen the potential for financial armageddon. So if and when it hits it’s going to be ugly wherever you live. Prophecy2008 \\nWhere do you put the cash to be safe if not in the bank? What about Paypal? Sergi William \\nI was born in Spain and I am 100% Spanish. I spent 3 months in DC at 2011 and I totally agree with Michael: I had a culture shock. \\nAbout the language, even if you know the language of the country you are moving to, it takes many years to get all the slang and to have a correct spelling and knowledge of everything about that country. \\nAnd well… I feel sad because I came back to Spain and I always thought it was a mistake and I should stay in the US. \\nBut with the last news and everything, maybe I did the right thing… \\nAnyway, the whole view is so scary… \\nGreetings from Barcelona to everybody! Rodster \\nGreetings and yeah it’s tough everywhere you live we cause this collapse is being planned on purpose. It’s better to live within one’s culture. I’m spanish but born and raised in the US. I know even for me it would be hard to move to a latin american country or to Spain. The culture is so different. jacklohman \\nMainly the rich will gather their stash and look for a country where it will be protected. But they will have to worry about pirates, or a corrupt security crew, or local politicians who will claim the cash as illegally acquired and confiscate it. Better that they stay in America and fix the system. Gracie Darling \\nYou are mostly wrong about that. Most countries in South America and Central America are no pirates or will take you money! \\nThe banks in South America have branches in the states. There are actually laws down here! \\nEcuador is not less corrupt than the USA. Look around. Look at the shipping docks in the states, for example. Same here though, mostly. \\nMoney is pouring into Latin Countries and the government are not taking it from anyone. \\nBanks are very strict here in Ecuador. Same in Colombia and Peru. Only two countries are having some banking problems. They are south and in the center of the continent, not Bolivia. \\nThe economy in Ecuador is booming and gringos are flooding the cities. Hard to find a cool apartment on the coast. Building is rocketing with huge shopping centers. People are spending money on cars and houses and many luxury items. \\nWe have paved streets in Ecuador now! Even toilets and air conditioned bars. How bout that! T \\nYou’re saying that the banks there are healthy, and safe? close call \\nWould you fix the system that feeds you? It’s a bottom up food chain that’s working upward very quickly. The die off is coming, it’s global. jacklohman \\nYea, I guess I’d recognize that I pushed too far. “Greed” is this country’s #1 problem, and our politicians share in it all through campaign cash. ONLY public funding of campaigns will fix it, and ONLY a major turnover in 2014 will do it. \\nIgnore the promises. If you are happy with our nation’s direction, vote for incumbents. If not, vote for challengers. MD \\nThat is the most defeated mentality on earth. Are you really so bogged down by the system the only thing you can do to protest is vote for challengers? lol. pathetic. jacklohman \\nI agree totally dude!!!! lol Pathetic. IF anything, vote independant or no vote at all!!! Jill Ellen Schulze \\nNo, america is worse. The pirates are only in africa. What about Europe where I personally know life is nicer and less stressful. Well that depends if material stuff is important of course (most all of the americans I met in my 31yrs abroad where consumed with being matwerialistic or tryng too hard to be destitute losers. I want to leave soon but my [partner is an american and so is our daughter. Although I grew up in Europe I am trapped in the U.S. It is verty hard. I have never found a more superficial, damaging society than here in the U.S Sonia \\nI know how you feel… I’m not European so I can’t escape to Europe, I’m Latin American so I could move back to my country or to another Latin country with low restrictions on immigration. However, it’s very hard, I was brought to the US when I was 13y/o and since then I have always dreamed of leaving this place. Trying to pick a career was very difficult because I also didn’t want to pay 100k on a degree here to move to another country and make significantly less, so I’ve always taken a conservative and safe route and have no debts, but now I’m so unhappy because I’m almost 30 and I still live here, and I’m afraid I will never escape this country. \\nIt is really scary because I really don’t have a big family, I don’t know where to go, and I’m scared that I won’t be able to support myself in a different country since I am single and I’m just used to taking care of myself alone in the United States. I don’t have a big family, I really don’t have anyone to welcome me in another country, and I feel really scared. I wish I could find a way to be autonomous, have my own business, or telecommute so that I could finally move. This culture is depressing, and I’ve realized that it’s not just me, because when I talk to other immigrants (Latin, Europeans, etc.) they feel very similar. In fact, after so many years here, my friends are immigrants with the exception of one or two Americans, and even with those American friends I feel like they don’t understand because they still have a blind over their eyes and believe that their country is wonderful. piccadillybabe \\nTo go back to your homeland where unemployment is close to 50% does not bode well for America. Best wishes to you. lois752 \\nlike Stephanie said I cant believe that people can make $9561 in a few weeks on the internet. did you see this web page w\\xadw\\xadw.K\\xadE\\xadP\\xad2.c\\xado\\xadm Mondobeyondo \\nHoney – if you made $9561 in a few weeks on the internet, I sure wouldn’t be posting about it on The Economic Collapse Blog. I’d be off surfing on my private island in Tahiti. \\n*burp* \\nTell me how is Barcelona? Is it a good place to live? Sergi William \\nYes. Good weather. Mountain & beach. In that case it is. The problem is the econOmic crisis, wich is everywhere. BeenThere \\n“in many foreign nations, the police are far more corrupt than they generally are in the United States”. I find that hard to believe Max Never the less, I never thought I would see the day when Americans would want to leave their country. MeMadMax \\nHey, that corruption can be taken advantage of… Always keep a $20 dollar bill on you, and you will never go to jail…. \\nI experienced that first hand when I lived in Mexico for a while! infocyde \\nGood post. Another thing to consider too is that if things go south the natives might look at America as the country to blame for the world being in Chaos. If you stick out in those countries it might be a worse place to be. Just food for thought. Mudpie \\nGreat point. I went to a fairly USA-friendly country to live and work for a fairly long period of time and though they liked me, there is definitely a bias against Americans in particular. It is based on the fact that they get lots of stuff from TV and are ignorant as well; and also, honestly, that we really are NOT anymore the nice guys we used to be and they have a reason to dislike us often. MeMadMax \\nThe Gastonguays stole my idea! Anyways, I find the idea of leaving the states not only a necessary truth for me and my families’ survival, but an exciting endeavor. I dunno, maybe it’s because I have been exposed to other countries, then look at the US and go, well… we just suck. We may be “rich and powerful”, but we suck at the same time. One time, I was walking down the street of Santiago, and saw a country rich in culture, but not money, but yet, every single person I ran into there seemed… happy. And you could feel it too. I have also been to lima peru, bahli indonesia, melbourne austrailia, hobart tasmania, and some places in the middle east. Anyways, each time, same deal(with the exception of the middle east) you could feel the attitude there, festive and fun. The feeling I get in the states is disconnected and cold. People don’t want to socialize with each other here. Maybe it’s because of technology overload. People don’t get out of their cars and walk anymore. There’s no street vendors or anything either… It feels dead here. >_> Mudpie \\nLiving abroad was an eye opener for me. I loved the place we were in and truly, now after that America does just suck and seem filled with artificial people and things at this point in history. Seeing from another perspective cemented for me that our culture is vile and we are a moral sewer. Seeing the attack on George Zimmerman was almost more than I could bear. We have turned into a seething cesspool. \\nBut again, the grass is always greener and even though America is in bad shape, truly emigrating to another place is pretty radical and not necessarily the solution. Making a community of similar thinking friends here and enjoying the natural beauty of the US (even people in the beautiful place I was in appreciate our natural beauty in the West, e.g.,) may be the best way to go for most. \\nBut I salute you : ) And may still join you at some point. \\nOne thing for SURE. We all need to become less emotionally connected to the construct of “America” as that was, even 6 years ago. Those days are gone for good. We need to be clear eyed on moving ahead on our principles. \\nFor instance, I hear the Star Spangled Banner and scoff these days, for we are no longer the land of the free and home of the brave. \\nWhat was true is now a lie. xander cross \\nAttack on Zimmerman? He murdered a kid and molested his cousin. Are white people this sick and evil? Mudpie \\nYeah, white people are that sick and evil. Sequoia \\nYou are probably mixed with white European blood in your ansestry too.About everyone is mixed now days. there are good and evil in every race and nationality and it isn,t fair just to point the finger at one race or people. And about Zimmerman,he is a Hispanic white and Jewish with a black grandfather in Peru.He is mixed. We all need to come together as one people against this evil government that has been hijacked by foreign off shore banks and come together as Americans. Seanyboyo \\nZimmerman is not white European in any of his heritage , his father is Ashkenazy Jew not European! His mother is native Peruvian Indian with a black father! I’m white European , my ancestry is traced back 300 years on both sides of may family to N&S Ireland, immigrated to England in the 19th century, my genetic grouping is R1b (like most Western Europeans!) all this makes me white ( the way the above racist zander utilises my ethnicity to place people with no connection to white Europeans amongst us to facilitate his ideological racist hate for white people’s is a classic definition of racist ideology)! Zander & his ilk need to be fought , because should our ethnicity become a minority be holding to zander & co we’ll find no leftist PC defenders, only belligerent intolerance that’ll surpass our worst nightmares! All people deserve ethnic & cultural protection , whites included! Ray J Cimbalnik \\nI AGREE!!! You hit the nail on the head! People in all of the other countries that you mentioned might have less money, BUT…they ARE much happier and more friendly people. I have experienced that for myself when I have been in other countries. As a side note, they are also generally healthier than the people in America. I am now in the process of trying to tie up the loose ends so I can expatriate just as SOON as I can. Prophecy2008 \\nWhat country do you feel is the best? infocyde \\nAlso I have noticed a lot of my expat friends still have their income sources somehow tied to the US (supporting tourism in their new country, online businesses, remote workers). They are proud to have left, but I see this as a giant gaping hole in their strategies. As a temporary solution OK, but if your checks come from the USA or USA/Western tourism if there is a crash you might be very vulnerable. Mudpie \\nIt is true. VERY hard to do business overseas unless one is very rich. So many hurdles. Banking customs, rules (though where I lived the banks were MUCH better, real people answered phones politely, GOD I hate what we have become), time zone issues, it is hard to get things done in the states from overseas. Sequoia \\nIf someone moves to another country and is dependent on Social Security checks or other income from the USA,will be screwed when the S#!T hits the fan and the USA goes bankrupt completely. If you relocate to another country,keep this in mind, that you will mabey need another source of income. If you move out to another country,now is the time to try to open a business or find some work,because one day those checks are not going to come to you and you will be poor just like in the USA. You need to have a stragety plan before leaving. infocyde \\nI will say this though, as much as I love America, I think it will only be harder to get out and we are on a trajectory towards fascism. It won’t get any easier to leave if that is your plan IMHO. This doesn’t mean that you will be successful if you leave, but the option will get harder as time progresses. Another factor to add into the calculus. frankensteingovernment \\nAt some point, you begin to realize that the government is simply going to tax you to death. They have no other strategy to cope with the massive debt they have incurred. \\nSo these folks are seeing the obvious. It’s going to get a lot worse before it gets better and it’s clear that their US Countrymen are a bunch of apathetic cowards. \\nExpatriating is looking very good to me also. MeMadMax \\nThere was a post on ZeroHedge of a guy that described the united states as a “Prissy cheerleader who thinks the world revolves around her”. And that if she didn’t show up for school, the place would close down and her friends would commit suicide and the teachers would quit… well, not quite all that but you get the gist right? Fact of the matter is, the world does not really care about the US… Neither like nor dislike, they just want to get on with their lives just like the rest of us… And, “third world countries” are really not that bad… They got it all, mostly, too, TV’s, cars, toilets… etc…. Mudpie \\nAgain, I pretty much agree. But you cannot deny that we have a strong tradition of liberty here that many people still carry. Just saying. \\nI noticed the same thing about America though Max. And many overseas economies are booming and more free than ours. I even thought China felt more economically vibrant (though I would be afraid to post this over there – it will be a few years before the NSA starts disappearing people for these kinds of things). davidmpark \\nThere’s old wisdom, “A coward is a hero with a wife, kids, and mortgage.” Guess that’s what’s going on here. \\nWish we could leave; always wanted to go back to the ancestral homes in Edinburgh, Glasgow, Bristol, Brighton and the small village of Parc in France (where family legend has it we got our name from Charlemagne himself). But my family and I have no choice but to stay put. \\nI’d rather fight it out here. I know we have a collapse and an international + civil wars coming and have been studying the possible effects and outcomes, and have come to a conclusion: America is going to be better off long term than the rest of the world. \\nMy reasoning is that if Obama or the next president becomes a fascist dictator, they will fail and the United States will collapse. If not a dictator is elected, then the coming perfect storm will get us also. \\nMany are leaving for reasoning that they will be better off elsewhere. Not true – they’ll get into the wars to come anyway; cast into the Benedict Arnold or Coriolanus roles. 2Gary2 \\nI think those leaving are sick of the crazy conservatives like paul ryan who takes from the poor and gives to the rich. davidmpark \\nDoesn’t Bloomberg have a Bahamas home that he goes to each weekend in taxpayer dime with NYC cops also paid for at NYC expense? vizeet \\nI think many countries may be safer than US because US has gun culture which makes it very very unsafe at the time of riots. People may look for more foreigner friendly, having good natural resource and still not heavily industrialized. I can think New Zealand as one. GSOB \\nO beautiful for spacAnnotateious skies, For amber waves of grain, For purple mountain majesties God shed his grace on thee And crown thy good with brotherhood From sea to shining sea! \\nO beautiful for pilgrim feet Whose stern impassioned stress A thoroughfare of freedom beat Across the wilderness! God mend thine every flaw, Confirm thy soul in self-control, Thy liberty in law! \\nO beautiful for heroes proved In liberating strife. Who more than self their country loved And mercy more than life! America! America! May God thy gold refine Till all success be nobleness And every gain divine! \\nO beautiful for patriot dream That sees beyond the years Thine alabaster cities gleam God shed his grace on thee And crown thy good with brotherhood From sea to shining sea! \\nO beautiful for halcyon skies, For amber waves of grain, For purple mountain majesties God shed his grace on thee Till souls wax fair as earth and air And music-hearted sea! \\nO beautiful for pilgrims feet, Whose stem impassioned stress A thoroughfare for freedom beat Across the wilderness! God shed his grace on thee Till paths be wrought through Wilds of thought By pilgrim foot and knee! \\nO beautiful for glory-tale God shed his grace on thee Till selfish gain no longer stain The banner of the free! \\nO beautiful for patriot dream That sees beyond the years Thine alabaster cities gleam God shed his grace on thee Till nobler men keep once again Thy whiter jubilee! \\nWhat an incredibly gorgeous song. \\nBut it is about the people of a different era. \\nStill, I get your point. It is a hard decision either way. lavista4u \\nI’m from Asia. Americans are the most talented people in the world. Its just that they ain’t getting the opportunity they deserve. \\nYou are worth more than what America tells you. Just come out of America and see how your value goes up from Zero to Infinity in a day. \\nAgree, other countries are a bit struggle too but its not as bad for guys of the caliber of Americans. I admit, I’m not as talented or educated as some Americans who are living in depression and unemployment, but i earn a good income and that has allowed me to travel places. \\nFirst, learn a new foreign language, if you can learn at-least one foreign language say Mandarin, Japanese, Korean, Russia, German…The whole world suddenly opens for you. With your English skills and local language…you will be on top of the competitions. There are very few people in non-English speaking countries who would then have the skill-set as you would. \\nJust learn a new language. I guarantee you will experience a New World. Joyce J \\nI live in Florida, and I keep telling people, if you want to learn something, learn Spanish! I have a feeling it’s going to be needed in the next few decades. I try to do as much traveling as I can. I am not able to do it like I would, but still. I think for some Americans – we need to learn about the cultures in our OWN back yards as well! You got the Cajuns, Native Americans, and others. Apokalupto Aletheia \\nI took Hebrew. I may never meet a Spanish only person, or an Asian language only person. But I will meet God one day. I know I have ticked Him off enough already and He still forgives me. The least I could do is speak His language when I meet Him face to face. sherpeace \\nMy brother is being treated like a king in China. They practically have him running the school. Here they made him quit saying he was racist after they put the worst kids from several grades in his class. He speaks Chinese and the children LOVE him; the parents and admin too. HORIZON \\nThank you. Ken \\nMoved to New Zealand 14 years ago. I haven’t lived in America for almost 20 years now. I can tell you that it takes a significant amount of time to rebuild your life when moving countries. Even though English is the main language here there are a lot of aspects to consider that would be subject to change. With that said there are a lot of advantages living here as opposed to the States. The government is much more accountable and visible to the ordinary citizen, i.e. you can actually bump into a member of Parliament or a government minister on the street…. without them having a phalanx of security guards. There is no oppressive police presence. Only 4.5 million people in a country the size of Japan. Yes it is on the ring-of-fire but nothing is without risk. USKiwi \\nWe did the same about 5 years ago and feel that living here is significantly better than the US. Moose is Loose \\nI stayed in NZ for about 4 months… Auckland down halfway through the north island. I loved it as it was a clean and polite country, however viewing it on a map is a bit of a fright. It’s strange, as a born American I must have lived in over 30 of my fifty states including Alaska (but not hawaii), and always on the coast until just recently when I had my first land-locked experience in Indiana, and now living in central canada far away from any ocean. I feel (possibly falsely) so much more secure here. No giant tectonic plates running along my coastlines, no volcanoes nearby to speak of, no oceans to rise over the landmass… wind usually comes south-east in the northern hemisphere, so our wind current sweeps down from the eastern tip of Russia through the Yukon to us. Not much to speak of as far as population above us…. but when I was in NZ, I FELT the distance from any landmass on the planet. It was like the fresh ocean air, even in the middle of the city, always reminded me that I lived on a tiny blip in a water world. And driving up into the mountains gives you some spectacular views of the waters… but also a bit scary! to look 290 degrees around you and see the curvature of the earth on the vast oceanic horizon is a big wake up call on just how far out you are! TR \\nNo one can escape global warming & NTHE. Ralfine \\nAfter all, most Americans descended from immigrants, refugees, slaves. Mudpie \\nWhy we were so strong. \\nIt takes a tremendous act of courage to emigrate for good. \\nAnd back then they did not even have computers or TV to stay in touch with the old country. \\nI never cease to be amazed at how low our character has fallen from what it used to be. Pathetic. And happened so quickly. \\nThe Left’s cunning is brilliant. Ralfine \\nDon’t blame it on the left. \\nEmigrants and the left have one thing in common: leaving behind the old and trusted and heading for new opportunities. \\nIt is the right that wants to conserve the old and allow very little movement. \\nIn chaos theory chaos allows for creativity, while order is stagnation. \\nMaking a new country in a new continent does not work with conservatives, you need progressives for that. \\nThe only danger is, that even the most progressive become conservative and eventually are left behind when they do not progress themselves. davidmpark \\nWhen will the rationing start in the US? Should be before the world war gets hot. Ralfine \\nYou mean food stamps? davidmpark \\nI was originally thinking of US WWII style rationing. But that’s a good point about the food stamps. With our situation, we had no choice but to go on it. They don’t supply enough for a whole month – enough for 2 people; not 5. \\nFood stamps as the new rationing. Good observation! Melissa McGuire \\nI live in Scotland, Great Britain. So I don’t know what it’s like to live in America. Carl \\nAustralia is as racist as the United States mary \\nThere are racists everywhere in the world. Where Ive lived in the states, majority of people are not racist. Its a big enough country that youre not on top of each other and people are used to living with people from other areas. Those who are racist, usually have their reasons, often times bad experiences with a few from that race. Most people do not generalize though and see people as individuals. Sounds like you dont, youre in fact “generalizing”. Apokalupto Aletheia \\nThe problem with Australia for me at least is the Sydney Funnel Web Spider…or the very venomous snakes, or that huge desert. I hate the heat, and most definitely hate “Tiny Critters that Kill…for a thousand Alex.” condaggitt \\nIf I had $100,000+ in student loans and very little prospects of ever paying it off…i’d move too.,, \\nLife in the usa not worth having that over your head for decades. Cubatraveler \\nI have not lived in the U.S. in 25 years and I would not go back now. Everything I see has changed for the worse there and I am doing much better out of the U.S. than I ever did in it. If you feel like you don’t belong there anymore, you are probably right and should immigrate. No regrets from me. Manny \\nIf things are going to get bad in the United States, maybe they will be as bad anywhere else? Richard \\nWhy has my comment been deleted three times this morning? chris \\nSinking ship? Not that i’m saying the people leaving are rats of course! Rufus T Firefly \\nThe quicker these ignorant religious wackos leave the country, the better off we will be. Maria S Biddle \\nAs flawed as she is, this is home and I will fight for her, not flee. xander cross \\nYeah right. You will work for the Chinese and then complain about the very jobs your white male CEO’s sold to them in the first place. Smithfield, va comes to mind. mary \\nShe should complain, as should we all. We help bring more of them to middle class, while we hurt ourselves. Glad to see they are doing better but not at our own expense. I personally know several Companies affiliated with China, and if they left and brought the jobs back home, a lot of our current issues would be solved. And not just in China either. If our own Companies cant be loyal to the US, I dont support them. I understand the situation for some of them(shipping costs etc) or reduced labor costs helped their survival, but the government should be doing more to bring them back with incentives. The rest of us need to get innovative and help create more jobs. This country has survived issues before, they will rise above them again. Negativity defeats us. Positive attitudes with hard work and creativity can save us and help us to rise above our problems. Unify ourselves and create jobs so that families can remain in the same cities, we need to revitalize our family situations and our Communities to reach out to one another. Its up to all of us as individuals. If you see defeat and dont make an effort, then youre going down with the ship. I would rather try to save it. We can all be leaders, and we need strong, energetic leaders to encourage us with communication…speak to us as a nation, revitalize us with their spirit and leadership. A leadership which calls on those in the country to take us down the right paths to renew the economy and rebuild the nation. Jackie Milton \\nI personally support going galt. Become less productive on purpose. Do not earn anymore than it takes to survive.Keep yourself under the poverty level. Do not enable the government to extort more taxes by working harder and being more productive than others. If people will study the history of the past 40 yrs and the paradigm of today they will find that it is not beneficial to be extremely productive in our society. sherpeace \\nYou can blame that on laws passed by Republicans to give welfare to corporations and leave nothing for the middle class. TA \\nWelfare is wrong no matter who the recipient. It is the initiation of force that provides the welfare state. seth datta \\nI don’t know what the future holds, but there is the potential for social cataclysm in many parts of the world. I don’t think the UK will survive as we have too many people compared to local resources; we only survive because of fraudulent banking practices of the City of London Corporation. \\nSeems the better English-speaking countries are Canada, Australia and New Zealand. If you add Germany, Chile and Singapore to this list, you have the best countries for white people to live in future. For non-Caucasians, mostly these countries or a few extra ones may be fine, depending. The US and ireland are both fence-sitters, as the administration of the US is enslaving the world and the US through enforced globalisation practices designed to make the rich more wealthy. So it could go either way. \\nI do believe the US stood for something that no other nation achieved, and that this is something worth fighting for. markthetruth \\nIn the end you will most likely survive in a place you grew up in and are familiar with. And I’m a believer you are where you are for a reason. Stay Put ! Like all living things they learn how to adapt. \\nthe end… K \\nIf I had very young children. I might feel I owed it to them to leave. But since I do not, I will stay. All of us have the choice to run, or take a stand. Running always seems easier, so many do it. As the encroaching darkness of Fascism spreads throughout this Country. I will continue to hold up my small light in the darkness. And if one day they come and snuff out that light, so be it. Some times taking a stand for the right thing, is the only action a decent person has left. piccadillybabe \\nAmerica is resilient. We bounce back because most of us carry that “small light in the darkness” and ride out the storms and carry “hope” in our hearts. It’s just hard to see all the insanity and chaos going on now days and all for what? It’s gotten so out of control. Jade \\nI have had the same thought, but likely I grow tired of being a Delphi that no one listens too even though the evidence is laid out in front of them. T \\nAmen. Couldn’t have said it better. I’m going to make a stand, and fight in my own small way. JailBanksters \\nBut the only ones leaving are the ones that helped to create the problems. And their the only ones that doesn’t matter where they move to. It’s not like they contributed a lot to society, you would probably be better off without them to be honest. It would be a totally different story if all the Peasants left leaving all the rich behind. Vlad Lenin \\nIf it was a pure economic collapse, we would stay. But, it won’t be. This country is headed towards a future that would make Adolf Hitler proud. When the collapse comes, the people in power will use that as an opportunity to go all in. Many of us will be imprisoned (or just disappear), there will be confiscation on a national scale… we’re going to loose everything we have, so why not leave now while we still have something. Look at Lincoln and FDR, they’re already done stuff like this. Americans are bred to be fascist lites (we call the American system). When the end comes and the majority side with the government, what are you going to do? \\nAnd no it’s not just the rich leaving. Our group is all middle class professionals…tired of being handed our cards. And yes I said group, we have found ways to nullify or attenuate the article’s valid points. There is a way. \\nThis country just isn’t worth the trouble anymore. Mudpie \\nGood points here as well. \\nPeople disappeared in Argentina. And Mexico. And in many other places. The USA was unique. Not so much anymore. Jim \\nI am a dual citizen, living outside the US. At the moment I am seriously considering giving up my US citizenship due to the cost to keep it. Very few who live in the US realize (and not all expats) the paper work required to live outside the US and hold either a green card or citizenship. I certainly don’t have much and the cost in time is huge and a mistakes (not intentional avoidance, mistakes) can cost a large part of the account plus tax penalties. The cost is also professional, if I have too much authority at my company I have to report various aspects of the company to the IRS. The report has to be made even if it breaks the law of country the company is based in. It is becomning inpossible to open or maintain a forgien bank account in many countries if one is a US citizen as the banks don’t want to deal with the IRS and the penalties. US citizenship simple isn’t worth the cost to me. Mudpie \\nWe almost reached that point. \\nYou are so right about the paperwork. robert burns \\nI would not define “many” the same way as if there is a mass migration. There isn’t and won’t be. First, it requires money. Second, it requires skills. Third, it requires another country willing to take you for either your money or your skills. It is difficult and time consuming. People who have done it struggle usually and some come back because they cannot bear not being “near” family. Even with Skype it is hard to remain abroad without huge commitment. Far more people are trying to get into the US. Many are losers such as from Mexico but there are many, many well educated ones from mainland China and India. They still view this as a land of opportunity compared to their home countries. Even if I could get into one of the chosen countries: NZ, Australia or Canada, I would not do it at this stage of life (age 67). Not enough energy for it and unwilling to be away from children. I tend to think more along the lines of a favorite Vietnam related song: NOWHERE TO RUN TO. Jodi \\nI think the best plan is to be prepared. As nice as it sounds to move away from it all, it would be difficult to adjust. Charlie \\nWhat if the citizen’s of the countries that people are running to for whatever reason begin to hate Americans. These peoples lives could be in serious jeopardy. jakartaman \\nI have lived in several countries. America has gone to the dogs and the whole world will be at war over basic resources. Why did America become so powerful? Two Oceans Freedom Once the SFTF there will be a scramble for “Things” There will be a lot of death from violence, starvation, thirst, disease etc. even possible nuclear? Once things settle down to a reasonable level people will reconstitute themselves and their living environments – It will be like the 1850’s. Where would you rather be at this time – I want to be in America where there is a lot of natural resources. Belize – really – the coconuts will run out soon! David Kessel \\nAnother important thing- if not ‘the’ most important thing to consider is visas. You will relocate as what? Most countries either want a special skill or money from you. Otherwise, you’re a tourist with no rights whatsoever and your tourist visa may or may not be extended. And also, most countries protect their job market from foreigners. Even if you have a skill, they just may not want to hire you. The exception is maybe teaching English for a pittance. Ralfine \\nAnd you need to be married to take your sweetheart with you. Some people are not even allowed to marry everywhere or their marriages are not recognised as such. \\nYour children might not have the right to stay after they turn 18, if they have neither a job nor citizenship. David Kessel \\nIf you are both 1st world citizens, you don’t need to be married. If you are a 1st world citizen and/or your sweetheart is say a Filipina, then you will have to be married but still the immigration may not grant her a tourist visa. Ralfine \\nAnd if we are both boys, … David Kessel \\nThat is even worse. That is why any article about resettling must touch upon the visa issue by country as the first topic, not culture shock-shmulture shock, The next thing is how and where to make a living- work permits, etc. Then, and only then come other relatively minor things described above. Ralfine \\nYes, culture shock is something you can worry about, when you have the permission to live (and work) there together. \\nAnd language? Well, just learn it. Richard \\nThat makes four times my comment has been deleted. I wold like to know why. Ralfine \\nLeft my home 20 years ago for a job in China. It was a culture shock. No living in England. Another culture shock. \\nJust one regret: I didn’t learn Chinese. ArigatouGozaimas \\nSwitching countries is mainly an option for the very wealthy. And for those who are not wealthy, where do they go? \\nCanada might become an option in the future. they have more solid fundamentals to their economy, a wealth of resources, and their socialized medical system will function better than Obama care. \\nIn the U.S. itself there is a large diversity between regions. So most of the migration might actually be within the U.S. and not require renunciation of citizenship. I could envision a movement of population to the energy producing regions of the U.S. (Texas & North Dakota). \\nPerhaps migration to the Midwest could become international at some point in the future. If there is a state and municipal debt crisis and New York, California, and Illinois need federal bailouts will the energy producing states stay in the Union and fork over the money to save them? \\nImagine the U.S. in three parts. The west coast, the north east coast, and the middle/south. I think it is a possibility. There is nothing unifying the american people beyond a bloated government making an overabundance of rules and passing out the common currency as it sees fit. (redistribution of wealth) apeiron \\nNot that I endorse emigration, but might I suggest Uruguay. Climate like coastal Georgia, constitutional republic with sane laws, less than 5% unemployment, about 3 1/2 million population half of which live in Montevideo, fertile well watered, 93% of the population is of European extraction, mostly catholic…no Muslims. Montevideo is a short distance from Buenos Aries. But, of course, Spanish is the predominate language. El Pollo de Oro \\nApeiron: If I moved to Latin America, Uruguay would be at the top of my list along with Chile. I’ve known Italians and Spaniards who felt right at home in Monteovideo or Santiago and felt like they had never left Europe. And those cities are relatively safe (certainly compared to Caracas or Guatemala City). \\nPero si un estadounidense no hable español, no recomiendo mudarse a Uruguay o Chile. Si un americano no tiene ganas de hablar español, es mejor quedarse en un país ingleshablante. NoSheDidn’t! \\nHave you ever read the book “How to hide your assets and disappear” by Edmund Pankau? It’s a bit outdated but the book has many low tech tips and tricks that come in handy. I guess it would be a “starter” book to get into that topic. I was born and raised in Mexico city, learned English at a bilingual private British school…boy was it a shock when i moved to the US! For starters the accents, like the southern one, the NY one, the Boston one…golly! Been living in the USA for 10 years now, i picked up the slang pretty quick but am still baffled by the accents. People looked at me weird when i said the words “petrol”, “banister”, “cupboard”, “lift”, “storey”. People also looked at me weird when i wrote words like “colour”, “neighbour”, “learned”. I’ll never forget their faces when they heard me say “i have to collect my husband”…lol… :b they probably thought i was fixin’ (southern term) to charge him for child support or smthg xD…I also got fat, because i fell in love with “Miami subs”, their hush puppies, milkshakes and deep fried fish were delicious…country fried steak with gravy, biscuits and gravy every morning…oy! chicken tenders with honey mustard…ran to Mickey D’s or Taco Bell for a snack, i put ranch on just about everything i ate and the biggest change of all: I HAD A CAR! shoot, back in Mex city i walked everywhere, never needed a car, had the subway, buses, cabs, etc. So between the foods i was eating and having a car i literally ballooned, fast…like 100 lbs in a year. It took me a while to lose the weight and get back to exercising but i finally lost the extra lbs. Talk about a culture shock! Anyway…i wouldn’t mind going to Spain next… ;b Olé pissobama \\nI’ll stick it out and await the better days when the adults are finally back in charge. Hopefully this country will have learned that putting spoiled rotten-to-the-core race baiting entitlement demanding free market hating socialist/progressive/Marxist Muslims in any position of power is not the road you want to go down. Muhammad Kazim \\n“Ab tau ghabra kai yeh kehtai hein keh mar jaaein gai Mar kai bhi chain nah paya tau kidhar jaaein gai” \\n(A very famous couplet in Urdu) \\nTranslation: Feeling nervous about this world, in panic I console myself saying I would die. But even if death too doesn’t provide the desired peace of mind, where would I go? \\nStick to the land of opportunities and hope for the best; keep your composure. Ready to Bail \\nLeaving the US is a very viable option and not nearly as difficult as some might think. I am set to leave whenever it I deem it appropriate. I own several pieces if property / housing in another country, have bank accounts / credit cards already in place, a successful business in place and Permanent Residency in the country of my choice ( won’t be identified ). Leave your arrogance and sense of entitlement at the border. Learn the language and don’t complain about how they do things.. you are there voluntarily. And no, I am not rich. Wherever you think is viable, go there. Spend lot’s of time there. Go back again and again if you can’t spend extended time there. MAKE LOCAL FRIENDS.. real ones.. not ones who think you are a rich American. Be NICE. Always. Smiles remove more obstacles than arguments. 68Impala \\n1,139 out of 319,000,000 or looking at it another way 99.99964% are staying. How many of the 1,139 are born here, didn’t marry a spouse from another country or left for a tax haven. Things are going downhill but I do not believe the 1,139 are the canaries in the coal mine. chris \\nYou’ve not understood. That’s 1,139 who have RENOUNCED their citizenship on leaving. That number is only a tiny fraction of those that left. Richard \\nLet’s see: The following are 10 questions to ask yourself before you decide to move to another country… Do You Speak The Language? If Not, How Will You Function? There are plenty of countries where you can get by in English – even where English is not the main language (e.g. India. Sri Lanka, Malaysia, Philippines, etc. etc.) Richard \\nLet’s see: The following are 10 questions to ask yourself before you decide to move to another country… Do You Speak The Language? If Not, How Will You Function? There are plenty of countries where you can get by in English – even where English is not the main language (e.g. India. Sri Lanka, Malaysia, Philippines, etc. etc.) How Will You Make A Living? Teach English As A Foreign Language. Google TOEFL. Countries like Thailand, Korea and Malaysia are CRYING OUT for English teachers and YOU DO NOT NEED ANY EXPERIENCE. Just the fact of being able to speak English fluently is often enough. It need not at all be “very difficult to find a job”. Sorry, that is not an excuse. Will You Be Okay Without Your Family And Friends? Yes, make new ones. And you will probably speak more to your family abroad than you did when living near them. (Skype and Magicjack, for example, offer FREE phone calls anywhere in the States from anywhere in the world. Sorry, excuse just vanished. Joyce J \\nI’m finishing up my degree in technical writing, and they are looking for people all over places in Latin America to teach English. TESOL certifications aren’t very hard to get (if indeed you need one). It doesn’t pay a lot but (depending on the country) it’s a pretty decent salary. Some require you only be a native English speaker. Some are for public schools, some private. Just depends. And if you can speak both English and Spanish (which I only know enough to get by), it’s better. I seriously thought about doing it. Richard \\nHave You Factored In Weather Patterns And Geological Instability? Hmmm… ask that question of those who live in Florida, California, the mid-west.. Need I say more? Oh, sorry drought??? DROUGHT?? Oh please. Give me a break! What Will You Do For Medical Care? Pay less than a tenth of what you pay in the States. Next question? Oh sorry, “get the care you needed (in the States)” Are you trying to make me laugh? American doctors are among the most careless, ignorant, greedy, distasteful professionals in the world. In my 22 years in the United States I can regale you with stories that would turn your hair. More people die of medical malpractice in the United States of Stupidity than anywhere else in the world. Are You Moving Into A High Crime Area? Then don’t. Whatever the above statement is, it is NOT a reason not to stay in the (crime-ridden) United States. Richard \\nAre You Prepared For “Culture Shock”? If you haven’t already suffered “culture shock” from living in the United States in recent years, you won’t notice it anywhere else either. If you do move to another country, you may quickly find that thousands of little things that you once took for granted in the U.S. are now very different. And there is a very good chance that many of the “amenities” that you are accustomed to in the U.S. will not be available in a foreign nation and that your standard of living will go down. True. And if your standard of living hasn’t already “gone down” in recent times while living in the United States, you are very lucky. What Freedoms and Liberties Will You Lose By Moving? Yes, our liberties and our freedoms are being rapidly eroded in the United States. But in many other nations around the world things are much worse. You may find that there is no such thing as “freedom of speech” or “freedom of religion” in the country that you have decided to move to. Nobody is suggesting moving to such countries. This is a silly comment designed to dissuade you from leaving the United States. Michael, I am sure you are quite shocked to see from the Comments how many people agree with the idea of leaving. Probably not what you hoped to see. sherpeace \\nI experienced culture shock years ago moving from Upstate New York to New Orleans, LA. It was worse than any culture shock going to any other country, including El Salvador in the 80s when it was embroiled in civil war! Dubaibonddude \\nIts not easy anywhere. Agreed. But catastrophe is everywhere from Cyprus to Greece and Spain to Syria and Egypt. Sanctions on Iran…etc. \\nWithout a job and income, most are doomed, anyways, wherever they live. \\nRich, who are people with above USD 1m in net worth and number about 25m (0.35% of World pop.) and people with over USD 100k are 334m out of 7bn which is just 4.77% so approx 5% have USD 100k and more. \\nWhat about the remainder 95% who do not even have access to a computer, and in most cases to food and water? They have no clue what a financial crisis means! I do not think they are thinking giving up any citizenships or moving abroad. They dont even have a dollar to eat a square meal or a bus fare. They are not reading any internet articles, too. \\nOnly 5% of the planet, at most, will be and is worried but the remainder from the jungles of Amazon to the Savannahs of Africa or interiors of China and India will make it through just fine, unless someone takes away their money and job,…but hey they never had one in the first place! \\nThis was more tongue in cheek but does anyone care to comment? El Pollo de Oro \\nIt isn’t hard to see why someone would want to get the hell out of The Banana Republic of America, formerly Gli Stati Uniti. From the shortage of decent jobs to the death of the American middle class to an increasingly abusive police state to an abomination of a health care system, the reasons to leave this collapsing hellhole are numerous. This banana republic is not the America I grew up in. But if you’re going to leave, there is much to consider. I know some American expatriates who really enjoy living overseas and have no desire to return to the BRA, but other Americans would be absolutely miserable in another country. It depends on the individual. \\nIf you’re the type of person who enjoys speaking more than one language and has a sense of adventure, you might do really well as an expatriate. I’ve known Americans who spoke perfect French and fit right in when they moved to France or Belgium. \\nOn the other hand, if you’re the type of American who makes a beeline for McDonalds the minute you get to Amsterdam or gets upset because someone in Rome spoke to you in Italian……you won’t make a very good expatriate. \\nSo again, it depends on the individual. El Pollo de Oro \\nIf you do stay: remember that our once-great country is now a banana republic, and the misery will only get worse for the vast majority of Americans. Below, some savvy individuals express the gravity of the situation, and smart people will heed their warnings. \\n“Our country’s vital signs are tanking—not just from the monetary area, but from a liberty standpoint as well. We are going down the path that other failed governments and institutions have gone down historically, and I don’t see it turning around.”—The Patriot Nurse \\n“The cities are going to look like Dodge City. They’re going to be uncontrollable. You’re going to have gangs in control. Motorcycle marauders. You’re not going to have enough police or federales—just like Mexico—to control the situation.” —Gerald Celente \\n“I live in a place in Tennessee where people started eating GMO food in 1995, and now, it’s 18 years later—and they’ve been poisoned. They walk around like they’re zombines. They are dying. If you look at the life expectancy from 1990 until now of somebody without a high school educiation in America, the life expectancy has dropped 5 years for women and 3 years for men. The Great Depression has been where I live for years. You have everybody eeking along on social security or disability. The food is poisoning them. The chemtrail spread over their head is poisoning them. For them, Armaggedon has already come.”—Catherine Austin Fitts, president of Solari, Inc. \\n“The American labor force has, in effect, been turned into a Third World labor force, where the only jobs available are in lowly paid domestic services.”—Dr. Paul Craig Roberts \\n“We’re sandwiched between authoritarian government and street thugs.”—Alex Jones \\n“When you reduce people to a level of desperation, it becomes far easier to control them—and that’s what we’re seeing. ”—Chris Hedges \\nSad, but could end up true. sherpeace \\nGood points, all. Alika Nganuma Toshihiko Cripe \\nWell damn then Id love to live in different country. And i cook my own food anyway so that settles it. Fred \\nHi Michael.Enjoy your website(s),all three of them. If you don’t mind telling,where do you currently reside?Thanks…Fred Trailer Park Investor \\nYes I am not independently wealthy, in fact I owe and owe and owe, so I guess I will have to stay put. At least I have a bag of beans and a bag of rice, so I guess I am good to go. Concerned Boy \\nThis is a great forum to promote paranoia treatments!!! Wally \\nThe only issue I see with leaving is that this is a Global problem and not only a US problem. When the US economy goes it will take a lot of the world down with it. There may not be a safe and sound place left. ArigatouGozaimas \\nFor English speakers there is Canada, The United Kingdom, Ireland, South Africa, Kenya, Belize, New Zealand and Australia for starters. TrailerParkOverpriced \\nI have a friend who is moving to the Atlantic provinces since it is away from it all….the person lived in Toronto for 20 years and like many other residents, the immigration, cheap foreign labour programme, youth unemployment and crimes committed by youth and expensive housing is making Toronto a future Chicago where there is a few haves and lots of have-nots who can’t get a chance to get out of poverty legally. ArigatouGozaimas \\nI wonder where the immigrants into Toronto are coming from? \\nIt’s sad to hear that. My most powerful picture of Canada was comparing Detroit to Windsor on Google Maps. The difference is astonishing. \\nThough Canada is really not that much different than the U.S. politically and economically. Though it seems the version of socialism to the north is less corrupt and run more efficiently for now. It helps that Canada has no real military budget. It also helps to have a huge pile of natural resources. (As does the U.S., Russia, China, Australia). ((Socialism tends to do better when there is money in the ground. Think Norway, Saudi Arabia.)) Then there is cultural cohesiveness, Canada wins that round as well. \\nSad to hear that Canada’s system is still starting to suffer the same woes as the U.S. system. It sounds like the aristocratic model of the U.S. \\nUnfortunately, without a strong and vibrant U.S. economy to the south the Canadian system will be strained even more. RPT34 \\nSouth Africa is very dangerous for white people. piccadillybabe \\nI have traveled to a few foreign countries mostly Mexico, Belize, Virgin Islands and the Dominican. As beautiful as those countries are, they are third world. The US is becoming third world also but at least we have a ways to go yet before we are totally on the skids. Mexico would probably be my country of choice as I always felt kind of at home there, probably because Mexicans are very friendly, nice people and love gringos. It’s true many Americans are packing it in and out. Teaching English (ESL) in a foreign country where there is a shortage of teachers is an option. TrailerParkOverpriced \\nIf the USA becomes third world, the entire world goes down with it economically. Think about the loss of foreign monies into poor countries and remittances. The locals of other countries will become more poorer and desperate. David Kessel \\nPS. You keep stress “land/country/place of birth” as if that is the only thing that defines one’s nationality and forgetting about the fact that you can be an American/Canadian/NZer, etc., by birth, or naturalization or by jus sanguinis – inherited through ancestors/parents, etc., regardless of place of birth. I was not born in the US but I’m only an American citizen and I don’t qualify for any dual nationality. There are many of us and you don’t mention as at all. Also, in 70% of the world just because you are born in the country, does not mean you are one of them now. Like being born in Japan does not suddenly make you Japanese. Guest \\nPS. You keep stress “land/country/place of birth” as if that is the only thing that defines one’s nationality and forgetting about the fact that you can be an American/Canadian/NZer, etc., by birth, or naturalization or by jus sanguinis – inherited through ancestors/parents, etc., regardless of place of birth. I was not born in the US but I’m only an American citizen and I don’t qualify for any dual nationality. There are many of us and you don’t mention us at all. Also, in 70% of the world, just because you are born in the country, does not mean you are one of them now. Like being born in Japan does not suddenly make you Japanese. David Kessel \\nPS. You keep stressing “land/country/place of birth” as if that is the only thing that defines one’s nationality and forgetting about the fact that you can be an American/Canadian/NZer, etc., by birth, or naturalization or by jus sanguinis – inherited through ancestors/parents, etc., regardless of place of birth. I was not born in the US, but I’m only an American citizen and I don’t qualify for any dual nationality. There are many of us and you don’t mention us at all. Also, in 70% of the world, just because you are born in the country, does not mean you are one of them now. Like being born in Japan does not suddenly make you Japanese. Charles \\nI did not see any mention of the “Economic Berlin Wall” set up against those who leave the country… Karen \\nI retired from the military not to long ago…… I have traveled the world, and yes American is an awesome place but so is the rest of the world to many people listen to the media and what else. Your made to believe that the rest of the world is worse off than you but it is really grand in Spain and so forth because maybe in an other country you might have to WORK Get off the couch and do something. The government there doesn’t pay you to do nothing, I remember still today, open air markets full of fresh produce REAL cheese, REAL butter, REAL bread, communities worked together. The best beer I have every drank because it is all homemade, people here have lost all since of community it is all about self. And if I could afford it I would head back to portugal Bosnian Serb \\nI would not suggest to any American to leave America because this nation is very, very hated in rest of the world. Even our “allies” the English hate us, and I felt this hate at their airport in London. Even my own family don’t like me anymore because I live and work in America. There is no way in the world I would suggest any American to leave this country. If I can’t find any common ground with my own “tribe” whose customs I know, whose language I speak, and where I spent some of my early years, then how in the world an American born citizen will adjust to a new environment? ian \\nI’ve traveled to many places recently. Other countries dont hate Americans, they just hate ‘tourist Americans.’ Be a real human in these countries and people like you just the same. greg_s \\nThere is no shortage of comments on the web about all of the impending problems we are facing. Where does one find information about specific things that we can do NOW as individual Americans to change and, hopefully, improve things? After weeks of searching, I have found nothing other than often powerful statements of commitment to our nation, to stand by it to the death, etc. As a Vietnam combat veteran, father, and grandfather, I feel exactly the same way. Organizing, setting individual differences aside, having specific beliefs and goals seem reasonable. So does getting rid of corrupt, lying politicians including (or especially) Obama – even taking on the “elites”. These all sound like good ideas, but who is going to start the process and when? I am an oath keeper. I stand by the United States of America. I am ready to help, but where do we find information or other Americans who feel similarly? How do we start making a difference for the better? Undecider \\nGoing down with the ship. Glory goes to God! TrailerParkOverpriced \\nI know someone who wants to move out from Toronto, Canada into some quiet town. He/she/it said that Toronto has so many traffic, jobs being taken away for lower wages and rent is ridiculous, and the city is unfriendly. The person is moving somewhere in the Atlantic provinces with his/her life savings and thinking of setting up a small business. One bad part of a country has a good part of the country. \\nAmerica and Canada have lots of places where one can live. Find out for yourself rather than going abroad to some country where people are desperate for food or human rights are no rights. \\nUnless you are going to a country where your heritage is, I don’t think it’s wise to escape to say, Zimbabwe when your nationality is European. greg_s \\nBTW, I am a 32nd degree Mason. We have no idea how we got lumped into the groups that are considered “anti-American”. As any friend or relative of a Mason knows, we believe in God (that, along with “geometry” is what the “G” in our symbol represents). Many, if not most, of us believe that Jesus Christ is the true Son of God. We believe in the Holy Spirit and that the Holy Bible is the inspired word of God. I believe in the Communion of Saints. We exist to help, not hurt, our fellow man. Historically, Masons were architects. Shriners’ Crippled Childrens’ Hospitals, Shriners’ Burns Institutes and Speech and Language Clinics at Universities across the country did not just appear. They were built and exist because of Masons. We have members of all racial/ethnic and religious creeds and beliefs. I am tired of seeing good people bashed undeservedly and literally due to ignorance. Again, how can we be successful if we are unable to overlook individual differences? S.I. Hayakawa wrote, “A difference, in order to be a difference, has to make a difference”. The color of one’s skin, his/her religious beliefs or the shape of one’s eyes does not make a difference. Someone coming at one with an AR-15 does. Let’s pull together and become, once again, one nation under God. \\nAs a soldier, I saw too many of my buddies fall in ‘Nam. As a V.A. therapist, the same holds true for the maiming of our veterans from the Gulf Wars, Afghanistan and Iraq. I do not think that we have the luxury of time. Time is not on our side. Let’s pull together before it is too late, that is, let’s pull together NOW! Graham \\nA rather unusual intro for a practitioner of the Royal Secret. \\n[Agni Ushas Mitra] chris \\nYou must be familiar with the entity Albert Pike said is the god of Freemasonry then? RPT34 \\nWe Christians are not to be yoked with unbelievers. Please consider that command from the Lord Jesus Christ. Joe Whitman \\nSo Masons take responsibility for turning America non-White, third world. \\nAll brown countries are poor, unless White people find oil under their feet. Rufus T Firefly \\nUSA to. Expatriates: you didn’t build that….so leave your fair share behind Chris \\nI left the US over 10 months ago to move to Paraguay to escape what is coming in the US. This is despite never even being in South America (but did years of research searching for best place) before and not knowing Spanish. It was one of the best decisions I made in my life! I laugh at the question asking about what freedoms you give up. I have much more freedom down here than US: no TSA goons, no militarized cops, some of the lowest taxes in the world, no RIAA(pirated DVDs sold almost everywhere; even cops buy them), a mostly cash economy. The government is one of the smallest in the world in terms of % spending of GDP and is actually one of the few that are solvent. Language barriers are not as bad as people think as you can say a lot with pointing, and I know people who have lived here for years without speaking virtually any Spanish. More importantly the are not stockpiling billions of bullets and tens of thousands of drones to kill their own citizens when the economy collapses. I cannot tell you what a relief it was to get out of the USA. Huge sense of peace came over me knowing that no goon squad could raid me for collecting rainwater, growing grass too high, or drinking raw milk, or just criticizing the illegal alien in chief. I could not imagine being there now when the government is openly MURDERING journalists like Hastings. Malecon \\nI just read your deleted comment about Nazism and fascism. Very informative. JJArise \\nIf you have ever read a good mystery novel, you know that the author does not reveal who did it until the end of the novel…not the beginning or the middle…the end. You may have a specific individual in mind as to who the culprit is and then find out at the end that it is someone else. You may not like the answer but you are not the author. As such, the MYSTERY concerning end-time Babylon (a.k.a. Babylon the Great) was not to be revealed until the end. Read Jeremiah 50-51 and Revelation 17-18. Who is it? You know! The question is…WILL YOU RECEIVE IT! \\nAnd you wonder why people are leaving her! pray for discernment \\n140+ parameters describing this end time super power and yet Amerikan “Christians” still miss it. \\nThat “great city” the book of Revelation is talking about is New York city with he UN as the modern day incarnation of the Tower of Babel– the future governing seat of the New World Order/BEAST anti-Christ kingdom. Souheil Bayoud \\nThe real problem of America has nothing to do with economic. edward emmell \\nI feel for now that America is the best place for me and my family. Spain is close to economic collapse right now from what I been reading. America has a ways to go yet. America keeps printing more cash and selling bonds. We have many problems and they will get worse. Hopefully the rapture will come and my family and I will be living in heaven before the USA crashes. But for now America is a good place to line at least here in Delaware Oline Wright \\nI moved to Australia in 2009. I did not leave because of what America is becoming I left because I fell in love with an Australian who I met over the internet. It took a long time for us to get together legally because the costs of immigration can be high if you don’t have much money. Then there is the fact that you have to pass certain health checks and background checks etc. I am now approaching the point where I can be an Australian citizen. I will likely stay here for the rest of my life and it makes sense for me to become a citizen of the country I am living in. My problem is do I give up the citizenship of my birth? can I become a citizen of both? I know from a friend that when you become a citizen your visa/permanent residency is canceled because it is no longer considered necessary therein lies the rub. Will I be able to keep my American Passport if I apply for an AUstralian one as well? because that would be what I would have to do if I ever chose to return to the states for a visit to my family. I would need my American passport for the trip to America and my Australian Passport for the trip back to Australia which is now my home. Archie1954 \\nThe main reason to leave the US is a moral one so obviously it wasn’t mentioned in this propaganda piece, that is the constant military warmongering. I personally would be too upset to live in a country that relishes warmongering, killing and destruction as much as the US does and even worse to be so grossly hypocritical about it! RarefiedSnotress \\nThe more weirdo Preppers that leave, the better. Johnny \\nI moved to Canada 2 years ago, and never regreted it. Strong economy, good job, low crim rate, free health care and a government that respects privacy. The USA is collapsing and I am sad but I would never return from paradise:) peace angel \\nAfter 40 years of studying the New World Order coming to being in the US and Knowing the future of Americans is in the Fema camps and knowing that recently the US imported 3 million foreign troops to take us all to the camps I am leaving. \\nAmericans have had decades of time to stop the NWO in America and have not and I have decided that America is too dumbed down and drugged up now to make intelligent decisions. The American Psychiatric Assoc. reported this year that 50% of all Americans are “clinically depressed” and that one in 25 Americans are sociopaths and one in 100 Americans are psychopaths. This is a very sick nation being poisoned by the government and it is the most dangerous nation on earth that is NOT at war. \\nI have decided to move to the Sunshine Coast of Canada. There are only two concentration camps in BC and they are not operable like ours. They are not hiring internment guards and are not yet at the place as the US is in creating the NWO. \\nThe US is the test case for the NWO and Agenda 21 and soon things are going to be unbearable. \\nAlmost three million ppl. are expatriating to other nations every year and most of them blog about it. IF you want to leave then the best place to learn about the transition is from the expats who have already done it. \\nI lived in Mexico three times without knowing Spanish and had no problems. Today Mexico is a war zone because of the US failed war on drugs and that is sad and yet ppl are still moving there which is crazy. \\nThe world is a billion ppl overpopulated and crime among young ppl is real worldwide and will only continue, but the US is the most violent nation on earth that is not at war and far more dangerous than any of the many nations I have researched moving to, but what is most obvious is that expats are far more happy than they ever were in the US. Life has become too hard here for most and far too expensive by design and our politicians will not stop without an armed revolution and no one is talking about that. Tobias Smith \\nit is time to eat a tuna fish sandwich sherpeace \\nMost of these people left when Bush II was president. They didn’t like what he was doing, and on top of that, many thought that the elections were stolen (including Me). Bush started a lot of the problems but Obama doesn’t seem that interested in reversing his laws, etc., so most don’t feel a need to come back. Obama haters are not leaving, except for the Billionaires, but the truth is they have been leaving for a while. They made their money off the American middle class, but they don’t want to pay the taxes or spend their money here. They are hypocrites of the worst kind. John Citizen \\nYour assessment of the current state in America is wrong. It is very bad here under the progressives. I do not know why Bahamas is not as popular spot as one would think. I really need to get out of here. I live in Florida now which has no income tax but the country is turning into a police state and if Hillary becomes president in 2016, it is adios for me. My country was once great, now it is full of freeloaders and leeches with their king in the white house. I really want to leave this country, it is in permanent decline. Thank you liberals.[sarc] Alex Macintyre Gore \\nCome to Australia…..ex citizens of the USA, we ain’t much different from you…well maybe our food, our jokes, the way we talk…..lol Venci \\nwell, i would love to come to Australia, but there is no way … Australia Gov. is asking for visas, e.t.c … any ideas on your end? sherpeace \\nMaybe we should all learn to sail. that might be the safest place to be! 14482302 \\nI have one foot in the Socialist States and the other in Ecuador. My wife works for an airline, and I can travel to Cuenca for free, at least the Atlanta-Quito part of the trip. My medical care is in Cuenca, and many expats are already there and many doctors there speak English and are American-trained. When the circumstances warrant, I can more easily transfer there permanently. I know the language, enjoy the people, and even eat the cuy that they enjoy eating. jack abercrombie \\n..after 45 yrs born & raised in ATL. GA. I have been in Quito, ECUADOR since SEP 2008. Certainly the Economic meltdown will domino & be global. Ecuador has a year round growing season and abundant water sources. Come see us: “JourneymanJack in ECUADOR” 123421 \\nLeft the States around two decades ago and never once regretted it; never experienced hardship; never experienced culture shock; never found it hard to get a job. Living in Easter Europe and now SE Asia has been a joy and an adventure, with a better standard of living, and more freedoms than back home. Jerry \\nI left the U. S. of A. a long time ago, in 1976 (when Carter still was president). I did it for work reasons, but I had come to think that life would be better in the Dominion of Canada. I was right about that, too. However, missing friends and adjusting to the sheer gentility of Canadians, which can be a bit maddening for Americans, took time and effort. I know that today, leaving the truly dreadful U. S. of A. is harder by far than what I underwent, and that moving to places more culturally remote a nation like Canada could take much more getting used to. jaleel shakir \\nThe perverted culture has destroyed the morals of the publics in America. wisdom \\nIt’s already laid out for you in the book of revelation (meaning reveal). No one gets out alive. You will need to choose to take the mark of the beast, which some believe is an rfid or get beheaded. You might live through armageddon (the third and final war on earth), but your soul is what this life is all about. frankyzee \\nMy wife and I left the US after 9/11. I had this feeling that things would go from bad to worse so we left. We live in Southeast Asia and you are correct, a person must be aware of all of the above. \\nIf you are not ready to assimilate into a new culture with an open heart and mind… forget it. \\nIf you can… here are some of the benefits; 1. Live debt free 2. Live on a small income/retirement \\n3. Own a home for 1/10th of the cost in the US 4. Have cheap medical insurance 5. Live off grid easily if you want to 6. Start a business with very little capital… This list could go on and on… be wise, find a good country and leave if you want to. It made our life so much better and we are thankful we made the decision. \\nGood luck Nate \\nThe economic crisis is not everywhere as a lot of people like to say. That is just a bunch of hogwash to get people scared of making the move and leaving his or her citizenship behind. The US is dying, but it is going to do a lot of damage before it is buried. I am now 35 years of age, I see no point in staying on a ship that is sinking. When I was 18 I thought this country was worth fighting for, not any more. Whether it is 1 month or 50 years from now, I will be leaving the US permanently. From my own research I believe that most “third world” countries will probably flourish when, not if, the US is gone. BrianLandon \\nif you think America is bad, just live in many third world and even second world countries. They are either dictatorships or pseudo-dictatorships. If you have lots of money, you can live somewhere in the Caribbean or South Pacific but be prepared to spend it, and invest there. And don’t expect the same infrastructure that you’re used to. \\nMaybe instead of running, its time for Americans to actually change things!! Don’t be lulled into false security by big government that promises everything, and then if you do vote for them(Obama), don’t be surprised when they are watching your every move(you’re an asset after all in their eyes). I’ll bet the entitled to my entitlement generation is not moving–well at least until the government has no money left to spend on the massive bureacracy it’s created. Bill \\nI do not understand that some leave US due to halthcare system. Obama is 6 years here and healthcare becomes better and better and will be more. So, you woud be optimistic about it. Sarcasm. John Citizen \\nObama has destroyed this country and a president Hillary will be the final nail on the coffin. I am curious though as to why the Bahamas is not a popular destination spot. Anthony Rivera \\nthis is what happens if the rich 1% creates selfish policies in our government Gracie Darling \\nI live in Ecuador. Been here 4 years. Now a citizen. Get good medical for $86 month. I have used the medical for an emergency and found it to be excellent in “Kennedy” hospitals in GYE. \\nIt cost about $20 minimum payment into social security to qualify for medical. But, they will see you if your name is not on the computer. It is law. Kennedy hospital in Samborondon challenged this law and lost big time. \\nEcuador is nice. Very expensive. Poor people don’t come here nor do they go to Panama or Costa Rica. South America is becoming very expensive due to the greedy gringo coming from the north to make money in housing. \\nDon’t believe what international living ragazines tell you. It is expensive if you desire to live close to what you were in the states, meaning nice house, nice car, nice clothes etc. Best to travel to Miami and buy and return. \\nEverywhere you visit on the internet you will find the liars, cheats and thieves in South America such as Gary Scott. David \\nI’m not an “American” in this country. No, in this country I am a slave. I have never thought of myself as American only the slave base on which the rich and greedy in this country run. David \\nSo needles to say, renouncing this country as my birth, that’s easy. LET ME THE HELL OUT! David \\nAmerica sucks, and I don’t even have the freedom to post about it on this board. Ha ha. They took down my last two posts. Congrats good job guys. Keep watching out, you know thought policing and everything. Laobai \\nI took my college degree and ran to China and left my debt with Sallie Mae. I never had anything in America and here I get to screw lots of beautiful young Chinese girls. Chow. LemmeOut \\nDivided we fall. The race war is a rediculous one. It’s funny how one ignorant comment about race can distract everyone from what’s important – that the United States is going down. The more we argue right left black white the more quickly the globalists can move forward. Besides the majority of us are muts of some nature so skin color is pretty much obsolete and its useless to stereotype (you f*n morons.. jk, only God can judge your stupid a$$es) Lingram90 \\nTotally agree! I just don’t know where to start with prepping for relocation. Joshua \\nIf more people are leaving USA i don’t know where they are going. The media hype is just confusing them. There is no place like America Today. Are these people going to China or India, the Middle East, or Africa? I don’t think they will go to these countries. The quality of life in these countries is unbearable? \\nHow can you leave luxury and go to poverty-stricken countries. Countries in Europe are congested and have their own relative cultures. If you are staying in America I will advice you to stick on and improve your quality of life. Outside USA is hell. \\nJoshua SouthAfrica Liz \\nWhy are service vets leaving the country? They have been taxed out of the US and can retire cheaper abroad. Hard to see our laws not being upheld and hardworking people losing jobs and houses because laws were dropped regulating certain businesses and the wrong people were bailed out not once but twice. Makes us think… frustrated_ayfkm \\nI was really interested in this article until I read all the points and realized my perspective and reasoning for wanting to raise my family elsewhere seem to be the exact same reasons why the author thinks it might be a bad idea. e.g. Guns – Of every country I’ve been in, the only one in which guns even enters my mind is the US. I am not the least bit concerned about needing a gun to defend myself in (example) Europe b/c it’s just not an issue there. I can sit and chat for hours in a mall, go see the latest movie, send my children to school, all w/o the tiniest concern that some previously “responsible” or “legal” citizen is going to snap, walk into a WalMart and walk out w/ a high capacity weapon & proceed to mow me and/or my children down in seconds. It’s just not an issue in most of our peer nations. john \\nThe United states is tranceforming into a police state more and more everyday, not to mention that it already has by far the highest incarceration rate of all countries, and most inmates never did anything wrong to be locked up in the first place. Freedom in America is an illusian, it is only to pretect the money and those who the government defines as perfect. There is no such thing as freedom our god given human rights have been taken hundreds of years ago do to a cleverly disguised form of totalitarianism. Alika Nganuma Toshihiko Cripe \\nIts gotten that bad Randall \\nI think some of the points or “warnings” about leaving the US are a little silly. Food shortage? War? Medical care? There are many countries that are much BETTER with food and medical care than the US. As far as war, the US is constantly at war. While it may be true that no part of the US is a current war zone, it doesn’t mean we still can’t be killed by opposing forces (9/11 anyone?). As far as making a living, many countries LOVE americans and will hire you quicker than their own fellow native people, ecspecially in asian countries. Personally, I crave culture shock, I think that’s why a lot of people DO travel. \\nAnd my friends and family can do as they wish. I’m planning on being out of the US hopefully by this time next year, this is my personal choice for my life. I’ll still visit of course, but my choice is mine alone. Lisa Chapko \\nlissen up all people There is a curises going to happen 2015 end the banking in the usa \\nThis is why the wealthy is leaving and who ever can get out. the USA is bankrupt \\nThe goverment is hiding more then is being told I will be dead for posting but God help America \\nmility ours is being trained to kill USA people it will start with gun control then round up the poor \\nno more food or water to areas wwlll starts in usa by are own people \\nChurches are falling away leting sin take over . God is now going to punish \\nwar , floods end of california no more freedom \\nif not believe me ask vetrense and see why military people are quiting the militay \\nthis is a wake up call for americans christains for you will now be hunted and killed for your faith. \\nfaith will save your soul death is better somtimes then losing your soul christians \\nmore eval is coming and the world will feel Gods rath are we ready i am some what ready but like most it is scary to see hell on earth \\nGod bless your all and good luck ps sept 13 hell will hit if you believe me or not guest \\nI was born here in the southeastern United States.for the most part the land is rich in fish and wild game.i have rabbits,deer and squirrel on my front lawn and a natural water source nearby.i belong to a local church in which we all have common goals and help our community and each other when in need.when the time arises i simply have to kill and eat those cute little rabbits and deer instead of going to the store Wanderersend \\nJoin our camper convoy to Belize Safety in numbers when you surround yourself with those on the same path. Wanderers End is leaving to claim our island rendezvous in Rockport tx Mike Breen \\nYou missed the big question….How will you get the IRS off your back? The USA does not let go easily, Americans are US tax payers for life regardless of their location. Even if no tax is owed, the cost of compliance can be painful and god help you if you make a mistake on the form even if no tax is still owed. Penalties start at $10,000 per offence. And THAT is why there is a huge increase in Americans giving up there citizenship. And the US response to this phenomenon? Increase the basic consular fee from $350 to $2450, and you will be VERY lucky if that is all it costs you. USA is a tyrant, and only those who tried to leave seem to know it. theyorkiedad \\nI am considering moving mself, myy wife and my dogs to Belize. My wife is Colombian, and Spanish is one of the languages spoken in Belizse. It is an anglophone country, and Roman Catholicismi is the prevalent religion. My wifwe and I are Catholics. I am fluent in Spanish. I have lived in Colombia for a cou8ple of years. I seriously doubt that we will suffer from culture shock. You can get most of what you want in Belize if you kinow where to look. And medical care is available in both Guatemala and Mexico, both close in to the boerder of Belize. Anbd, my maineason for leaving is Belize is center-right politically ande it is not very PC. BOOTOUTTHEBULLIES \\n“Oh Canada.” I am on my way as soon as I resolve some important document matters here. This country no longer represents what the founding fathers embodied in the constitution. We are a melting pot of immigrants and now a bunch of bullies want to do a 180 and change it all. I can’t live in a culture full of hate. it’s time to get out. Especially if you are a homeowner because your property, the single largest financial investment we all make, will be devalued in a depression and than we will be all stuck here. I am getting out before that happens. I don’t feel this is the country with the values that I grew up with here. I had said that even if Hillary had won I wanted to leave because of the fact that half of the people were so full of hatred and aggressiveness. And, I can’t live in a country that looks the other way when a candidate is a sexist, racist person. It is like saying that women are insignificant and we don’t matter and it’s open season on women and that is the way it is and deal with it. Well, I’m dealing with it by leaving this place. I’m done. No experience, no accounting experience, 6 bankruptcies, 5 Vietnam deferrments and the block of voters that put him over the top were very lowly educated people who probably only use their computers for fantasy football or nonsense instead of learning about the their candidate of choice and not just believing his sound bites. We have dropped in our level of education in the world standing and have uneducated, uninformed voters charting the future of our country. Is it any wonder we are headed for a huge fall? I am getting out before it happens. I feel for those who didn’t support trump but I won’t have a shred of mercy for those who did support him. You deserve what you get and I hope you suffer the worst for endangering the world economy and our values in this country. I hope you suffer the very worst and I’ll be waving to all of you from my safe house in Canada. Good riddance!'"
      ]
     },
     "execution_count": 10,
     "metadata": {},
     "output_type": "execute_result"
    }
   ],
   "source": [
    "df[df['length'] == 115372]['text'].iloc[0]"
   ]
  },
  {
   "cell_type": "code",
   "execution_count": 11,
   "id": "81d46d61",
   "metadata": {},
   "outputs": [
    {
     "data": {
      "text/plain": [
       "<Figure size 864x432 with 0 Axes>"
      ]
     },
     "metadata": {},
     "output_type": "display_data"
    },
    {
     "data": {
      "image/png": "[encoded data removed]",
      "text/plain": [
       "<Figure size 432x288 with 2 Axes>"
      ]
     },
     "metadata": {
      "needs_background": "light"
     },
     "output_type": "display_data"
    }
   ],
   "source": [
    "figure = plt.figure(figsize = (12,6))\n",
    "df.hist(column = 'length',by = 'label',bins = 50)\n",
    "plt.tight_layout()"
   ]
  },
  {
   "cell_type": "code",
   "execution_count": 19,
   "id": "90240b07",
   "metadata": {},
   "outputs": [
    {
     "name": "stderr",
     "output_type": "stream",
     "text": [
      "[nltk_data] Downloading package stopwords to\n",
      "[nltk_data]     C:\\Users\\satis\\AppData\\Roaming\\nltk_data...\n",
      "[nltk_data]   Package stopwords is already up-to-date!\n"
     ]
    },
    {
     "data": {
      "text/plain": [
       "True"
      ]
     },
     "execution_count": 19,
     "metadata": {},
     "output_type": "execute_result"
    }
   ],
   "source": [
    "import nltk \n",
    "nltk.download('stopwords') #Download the necessary datasets"
   ]
  },
  {
   "cell_type": "code",
   "execution_count": 20,
   "id": "b5b5b66b",
   "metadata": {},
   "outputs": [],
   "source": [
    "import string"
   ]
  },
  {
   "cell_type": "code",
   "execution_count": 21,
   "id": "a5d5ff3d",
   "metadata": {},
   "outputs": [],
   "source": [
    "from nltk.corpus import stopwords\n"
   ]
  },
  {
   "cell_type": "code",
   "execution_count": 22,
   "id": "5eff6f66",
   "metadata": {},
   "outputs": [],
   "source": [
    "def text_process(mess):\n",
    "    \"\"\"\n",
    "    Takes in a string of text, then performs the following:\n",
    "    1. Remove all punctuation\n",
    "    2. Remove all stopwords\n",
    "    3. Returns a list of the cleaned text\n",
    "    \"\"\"\n",
    "    # Check characters to see if they are in punctuation\n",
    "    nopunc = [word for word in mess if word not in string.punctuation]\n",
    "\n",
    "    # Join the characters again to form the string.\n",
    "    nopunc = ''.join(nopunc)\n",
    "    \n",
    "    # Now just remove any stopwords\n",
    "    return [word for word in nopunc.split() if word.lower() not in stopwords.words('english')]"
   ]
  },
  {
   "cell_type": "code",
   "execution_count": 23,
   "id": "79134e00",
   "metadata": {},
   "outputs": [
    {
     "data": {
      "text/html": [
       "<div>\n",
       "<style scoped>\n",
       "    .dataframe tbody tr th:only-of-type {\n",
       "        vertical-align: middle;\n",
       "    }\n",
       "\n",
       "    .dataframe tbody tr th {\n",
       "        vertical-align: top;\n",
       "    }\n",
       "\n",
       "    .dataframe thead th {\n",
       "        text-align: right;\n",
       "    }\n",
       "</style>\n",
       "<table border=\"1\" class=\"dataframe\">\n",
       "  <thead>\n",
       "    <tr style=\"text-align: right;\">\n",
       "      <th></th>\n",
       "      <th>Unnamed: 0</th>\n",
       "      <th>title</th>\n",
       "      <th>text</th>\n",
       "      <th>label</th>\n",
       "      <th>length</th>\n",
       "    </tr>\n",
       "  </thead>\n",
       "  <tbody>\n",
       "    <tr>\n",
       "      <th>0</th>\n",
       "      <td>8476</td>\n",
       "      <td>You Can Smell Hillary’s Fear</td>\n",
       "      <td>Daniel Greenfield, a Shillman Journalism Fello...</td>\n",
       "      <td>FAKE</td>\n",
       "      <td>7518</td>\n",
       "    </tr>\n",
       "    <tr>\n",
       "      <th>1</th>\n",
       "      <td>10294</td>\n",
       "      <td>Watch The Exact Moment Paul Ryan Committed Pol...</td>\n",
       "      <td>Google Pinterest Digg Linkedin Reddit Stumbleu...</td>\n",
       "      <td>FAKE</td>\n",
       "      <td>2646</td>\n",
       "    </tr>\n",
       "    <tr>\n",
       "      <th>2</th>\n",
       "      <td>3608</td>\n",
       "      <td>Kerry to go to Paris in gesture of sympathy</td>\n",
       "      <td>U.S. Secretary of State John F. Kerry said Mon...</td>\n",
       "      <td>REAL</td>\n",
       "      <td>2543</td>\n",
       "    </tr>\n",
       "    <tr>\n",
       "      <th>3</th>\n",
       "      <td>10142</td>\n",
       "      <td>Bernie supporters on Twitter erupt in anger ag...</td>\n",
       "      <td>— Kaydee King (@KaydeeKing) November 9, 2016 T...</td>\n",
       "      <td>FAKE</td>\n",
       "      <td>2660</td>\n",
       "    </tr>\n",
       "    <tr>\n",
       "      <th>4</th>\n",
       "      <td>875</td>\n",
       "      <td>The Battle of New York: Why This Primary Matters</td>\n",
       "      <td>It's primary day in New York and front-runners...</td>\n",
       "      <td>REAL</td>\n",
       "      <td>1840</td>\n",
       "    </tr>\n",
       "  </tbody>\n",
       "</table>\n",
       "</div>"
      ],
      "text/plain": [
       "   Unnamed: 0                                              title  \\\n",
       "0        8476                       You Can Smell Hillary’s Fear   \n",
       "1       10294  Watch The Exact Moment Paul Ryan Committed Pol...   \n",
       "2        3608        Kerry to go to Paris in gesture of sympathy   \n",
       "3       10142  Bernie supporters on Twitter erupt in anger ag...   \n",
       "4         875   The Battle of New York: Why This Primary Matters   \n",
       "\n",
       "                                                text label  length  \n",
       "0  Daniel Greenfield, a Shillman Journalism Fello...  FAKE    7518  \n",
       "1  Google Pinterest Digg Linkedin Reddit Stumbleu...  FAKE    2646  \n",
       "2  U.S. Secretary of State John F. Kerry said Mon...  REAL    2543  \n",
       "3  — Kaydee King (@KaydeeKing) November 9, 2016 T...  FAKE    2660  \n",
       "4  It's primary day in New York and front-runners...  REAL    1840  "
      ]
     },
     "execution_count": 23,
     "metadata": {},
     "output_type": "execute_result"
    }
   ],
   "source": [
    "df.head()"
   ]
  },
  {
   "cell_type": "code",
   "execution_count": 24,
   "id": "07664da9",
   "metadata": {},
   "outputs": [
    {
     "name": "stdout",
     "output_type": "stream",
     "text": [
      "<class 'pandas.core.frame.DataFrame'>\n",
      "RangeIndex: 6335 entries, 0 to 6334\n",
      "Data columns (total 5 columns):\n",
      " #   Column      Non-Null Count  Dtype \n",
      "---  ------      --------------  ----- \n",
      " 0   Unnamed: 0  6335 non-null   int64 \n",
      " 1   title       6335 non-null   object\n",
      " 2   text        6335 non-null   object\n",
      " 3   label       6335 non-null   object\n",
      " 4   length      6335 non-null   int64 \n",
      "dtypes: int64(2), object(3)\n",
      "memory usage: 247.6+ KB\n"
     ]
    }
   ],
   "source": [
    "df.info()"
   ]
  },
  {
   "cell_type": "code",
   "execution_count": 26,
   "id": "35d88a9e",
   "metadata": {},
   "outputs": [
    {
     "data": {
      "text/plain": [
       "0       [Daniel, Greenfield, Shillman, Journalism, Fel...\n",
       "1       [Google, Pinterest, Digg, Linkedin, Reddit, St...\n",
       "2       [US, Secretary, State, John, F, Kerry, said, M...\n",
       "3       [—, Kaydee, King, KaydeeKing, November, 9, 201...\n",
       "4       [primary, day, New, York, frontrunners, Hillar...\n",
       "                              ...                        \n",
       "6330    [State, Department, told, Republican, National...\n",
       "6331    [‘P’, PBS, Stand, ‘Plutocratic’, ‘Pentagon’, P...\n",
       "6332    [AntiTrump, Protesters, Tools, Oligarchy, Ref...\n",
       "6333    [ADDIS, ABABA, Ethiopia, —President, Obama, co...\n",
       "6334    [Jeb, Bush, Suddenly, Attacking, Trump, Heres,...\n",
       "Name: text, Length: 6335, dtype: object"
      ]
     },
     "execution_count": 26,
     "metadata": {},
     "output_type": "execute_result"
    }
   ],
   "source": [
    "df['text'].apply(text_process)"
   ]
  },
  {
   "cell_type": "code",
   "execution_count": 28,
   "id": "ef9a3d1d",
   "metadata": {},
   "outputs": [],
   "source": [
    "from sklearn.feature_extraction.text import CountVectorizer"
   ]
  },
  {
   "cell_type": "code",
   "execution_count": 29,
   "id": "a90bffb4",
   "metadata": {},
   "outputs": [
    {
     "name": "stdout",
     "output_type": "stream",
     "text": [
      "128019\n"
     ]
    }
   ],
   "source": [
    "bow_transformer = CountVectorizer(analyzer=text_process).fit(df['text'])\n",
    "\n",
    "# Print total number of vocab words\n",
    "print(len(bow_transformer.vocabulary_))"
   ]
  },
  {
   "cell_type": "code",
   "execution_count": 34,
   "id": "92eb399d",
   "metadata": {},
   "outputs": [],
   "source": [
    " text4 = df['text'].iloc[3]"
   ]
  },
  {
   "cell_type": "code",
   "execution_count": 35,
   "id": "575d3e83",
   "metadata": {},
   "outputs": [
    {
     "name": "stdout",
     "output_type": "stream",
     "text": [
      "  (0, 372)\t1\n",
      "  (0, 853)\t1\n",
      "  (0, 1254)\t1\n",
      "  (0, 1501)\t1\n",
      "  (0, 1939)\t8\n",
      "  (0, 3546)\t1\n",
      "  (0, 3722)\t1\n",
      "  (0, 4325)\t1\n",
      "  (0, 4540)\t5\n",
      "  (0, 4697)\t2\n",
      "  (0, 5424)\t1\n",
      "  (0, 6610)\t2\n",
      "  (0, 9211)\t4\n",
      "  (0, 9223)\t2\n",
      "  (0, 10152)\t1\n",
      "  (0, 11978)\t1\n",
      "  (0, 13030)\t5\n",
      "  (0, 13144)\t4\n",
      "  (0, 13980)\t1\n",
      "  (0, 15079)\t1\n",
      "  (0, 15084)\t1\n",
      "  (0, 15087)\t1\n",
      "  (0, 15831)\t1\n",
      "  (0, 15866)\t3\n",
      "  (0, 15890)\t2\n",
      "  :\t:\n",
      "  (0, 103809)\t1\n",
      "  (0, 105953)\t1\n",
      "  (0, 107242)\t1\n",
      "  (0, 107439)\t1\n",
      "  (0, 107446)\t1\n",
      "  (0, 107521)\t1\n",
      "  (0, 107571)\t1\n",
      "  (0, 108852)\t1\n",
      "  (0, 109541)\t1\n",
      "  (0, 109702)\t1\n",
      "  (0, 109764)\t1\n",
      "  (0, 109829)\t1\n",
      "  (0, 110027)\t1\n",
      "  (0, 110082)\t1\n",
      "  (0, 111240)\t1\n",
      "  (0, 112076)\t1\n",
      "  (0, 113486)\t1\n",
      "  (0, 113841)\t3\n",
      "  (0, 113860)\t2\n",
      "  (0, 114079)\t1\n",
      "  (0, 115498)\t1\n",
      "  (0, 115522)\t1\n",
      "  (0, 115801)\t1\n",
      "  (0, 117481)\t5\n",
      "  (0, 119429)\t1\n",
      "(1, 128019)\n"
     ]
    }
   ],
   "source": [
    "bow4 = bow_transformer.transform([text4])\n",
    "print(bow4)\n",
    "print(bow4.shape)"
   ]
  },
  {
   "cell_type": "code",
   "execution_count": 36,
   "id": "4195b741",
   "metadata": {},
   "outputs": [
    {
     "name": "stdout",
     "output_type": "stream",
     "text": [
      "6feet\n",
      "Blackberries\n"
     ]
    }
   ],
   "source": [
    "print(bow_transformer.get_feature_names()[4073])\n",
    "print(bow_transformer.get_feature_names()[9570])"
   ]
  },
  {
   "cell_type": "code",
   "execution_count": 37,
   "id": "6c025ba6",
   "metadata": {},
   "outputs": [],
   "source": [
    "text_com = bow_transformer.transform(df['text'])"
   ]
  },
  {
   "cell_type": "code",
   "execution_count": 38,
   "id": "29a87e1c",
   "metadata": {},
   "outputs": [
    {
     "name": "stdout",
     "output_type": "stream",
     "text": [
      "Shape of Sparse Matrix:  (6335, 128019)\n"
     ]
    }
   ],
   "source": [
    "print('Shape of Sparse Matrix: ', text_com.shape)"
   ]
  },
  {
   "cell_type": "code",
   "execution_count": 39,
   "id": "7c482464",
   "metadata": {},
   "outputs": [
    {
     "name": "stdout",
     "output_type": "stream",
     "text": [
      "sparsity: 0\n"
     ]
    }
   ],
   "source": [
    "sparsity = (100.0 * text_com.nnz / (text_com.shape[0] * text_com.shape[1]))\n",
    "print('sparsity: {}'.format(round(sparsity)))"
   ]
  },
  {
   "cell_type": "code",
   "execution_count": 40,
   "id": "208da018",
   "metadata": {},
   "outputs": [],
   "source": [
    "from sklearn.feature_extraction.text import TfidfTransformer\n",
    "\n",
    "\n"
   ]
  },
  {
   "cell_type": "code",
   "execution_count": 45,
   "id": "98065e8e",
   "metadata": {},
   "outputs": [],
   "source": [
    "messages_tfidf = tfidf_transformer.transform(text_com)\n"
   ]
  },
  {
   "cell_type": "code",
   "execution_count": null,
   "id": "6bebf8a6",
   "metadata": {},
   "outputs": [],
   "source": []
  },
  {
   "cell_type": "code",
   "execution_count": 47,
   "id": "d0c73c16",
   "metadata": {},
   "outputs": [],
   "source": [
    "from sklearn.naive_bayes import MultinomialNB\n",
    "spam_detect_model = MultinomialNB().fit(messages_tfidf, df['label'])"
   ]
  },
  {
   "cell_type": "code",
   "execution_count": 48,
   "id": "a8a47ab6",
   "metadata": {},
   "outputs": [
    {
     "name": "stdout",
     "output_type": "stream",
     "text": [
      "['FAKE' 'REAL' 'REAL' ... 'FAKE' 'REAL' 'REAL']\n"
     ]
    }
   ],
   "source": [
    "all_predictions = spam_detect_model.predict(messages_tfidf)\n",
    "print(all_predictions)"
   ]
  },
  {
   "cell_type": "code",
   "execution_count": 52,
   "id": "b12b1efb",
   "metadata": {},
   "outputs": [
    {
     "name": "stdout",
     "output_type": "stream",
     "text": [
      "              precision    recall  f1-score   support\n",
      "\n",
      "        FAKE       1.00      0.77      0.87      3164\n",
      "        REAL       0.81      1.00      0.89      3171\n",
      "\n",
      "    accuracy                           0.88      6335\n",
      "   macro avg       0.90      0.88      0.88      6335\n",
      "weighted avg       0.90      0.88      0.88      6335\n",
      "\n"
     ]
    }
   ],
   "source": [
    "from sklearn.metrics import classification_report,confusion_matrix\n",
    "print (classification_report(df['label'], all_predictions))"
   ]
  },
  {
   "cell_type": "code",
   "execution_count": 53,
   "id": "c63ab911",
   "metadata": {},
   "outputs": [
    {
     "name": "stdout",
     "output_type": "stream",
     "text": [
      "[[2426  738]\n",
      " [   8 3163]]\n"
     ]
    }
   ],
   "source": [
    "print (confusion_matrix(df['label'], all_predictions))"
   ]
  },
  {
   "cell_type": "code",
   "execution_count": null,
   "id": "8a56cdc9",
   "metadata": {},
   "outputs": [],
   "source": []
  }
 ],
 "metadata": {
  "kernelspec": {
   "display_name": "Python 3 (ipykernel)",
   "language": "python",
   "name": "python3"
  },
  "language_info": {
   "codemirror_mode": {
    "name": "ipython",
    "version": 3
   },
   "file_extension": ".py",
   "mimetype": "text/x-python",
   "name": "python",
   "nbconvert_exporter": "python",
   "pygments_lexer": "ipython3",
   "version": "3.9.7"
  }
 },
 "nbformat": 4,
 "nbformat_minor": 5
}
